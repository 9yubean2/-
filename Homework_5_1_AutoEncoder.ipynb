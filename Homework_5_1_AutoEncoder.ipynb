{
  "nbformat": 4,
  "nbformat_minor": 0,
  "metadata": {
    "colab": {
      "name": "Homework#5-1_AutoEncoder.ipynb",
      "provenance": [],
      "authorship_tag": "ABX9TyO5SzxqABqPExuaSwFnPYsj",
      "include_colab_link": true
    },
    "kernelspec": {
      "name": "python3",
      "display_name": "Python 3"
    },
    "language_info": {
      "name": "python"
    }
  },
  "cells": [
    {
      "cell_type": "markdown",
      "metadata": {
        "id": "view-in-github",
        "colab_type": "text"
      },
      "source": [
        "<a href=\"https://colab.research.google.com/github/9yubean2/ArtificialIntelligence/blob/main/Homework_5_1_AutoEncoder.ipynb\" target=\"_parent\"><img src=\"https://colab.research.google.com/assets/colab-badge.svg\" alt=\"Open In Colab\"/></a>"
      ]
    },
    {
      "cell_type": "code",
      "metadata": {
        "colab": {
          "base_uri": "https://localhost:8080/"
        },
        "id": "qHQ6j_Oeam6M",
        "outputId": "d68e3959-907b-47f5-8772-c7cd32bd5962"
      },
      "source": [
        "import tensorflow as tf\n",
        "print(tf.__version__)"
      ],
      "execution_count": 2,
      "outputs": [
        {
          "output_type": "stream",
          "name": "stdout",
          "text": [
            "2.7.0\n"
          ]
        }
      ]
    },
    {
      "cell_type": "code",
      "metadata": {
        "colab": {
          "base_uri": "https://localhost:8080/"
        },
        "id": "Tx9kh7m5lp83",
        "outputId": "e4ab546c-2274-49fa-efbc-c9497f4f2212"
      },
      "source": [
        "!pip uninstall tensorflow"
      ],
      "execution_count": 3,
      "outputs": [
        {
          "output_type": "stream",
          "name": "stdout",
          "text": [
            "Found existing installation: tensorflow 2.7.0\n",
            "Uninstalling tensorflow-2.7.0:\n",
            "  Would remove:\n",
            "    /usr/local/bin/estimator_ckpt_converter\n",
            "    /usr/local/bin/import_pb_to_tensorboard\n",
            "    /usr/local/bin/saved_model_cli\n",
            "    /usr/local/bin/tensorboard\n",
            "    /usr/local/bin/tf_upgrade_v2\n",
            "    /usr/local/bin/tflite_convert\n",
            "    /usr/local/bin/toco\n",
            "    /usr/local/bin/toco_from_protos\n",
            "    /usr/local/lib/python3.7/dist-packages/tensorflow-2.7.0.dist-info/*\n",
            "    /usr/local/lib/python3.7/dist-packages/tensorflow/*\n",
            "Proceed (y/n)? y\n",
            "  Successfully uninstalled tensorflow-2.7.0\n"
          ]
        }
      ]
    },
    {
      "cell_type": "code",
      "metadata": {
        "colab": {
          "base_uri": "https://localhost:8080/",
          "height": 1000
        },
        "id": "O-lHDbeXlwe2",
        "outputId": "1cfd6caf-b578-4ba7-d826-953048fe1dfc"
      },
      "source": [
        "!pip install tensorflow==1.15"
      ],
      "execution_count": 4,
      "outputs": [
        {
          "output_type": "stream",
          "name": "stdout",
          "text": [
            "Collecting tensorflow==1.15\n",
            "  Downloading tensorflow-1.15.0-cp37-cp37m-manylinux2010_x86_64.whl (412.3 MB)\n",
            "\u001b[K     |████████████████████████████████| 412.3 MB 23 kB/s \n",
            "\u001b[?25hRequirement already satisfied: keras-preprocessing>=1.0.5 in /usr/local/lib/python3.7/dist-packages (from tensorflow==1.15) (1.1.2)\n",
            "Requirement already satisfied: wrapt>=1.11.1 in /usr/local/lib/python3.7/dist-packages (from tensorflow==1.15) (1.13.3)\n",
            "Collecting tensorboard<1.16.0,>=1.15.0\n",
            "  Downloading tensorboard-1.15.0-py3-none-any.whl (3.8 MB)\n",
            "\u001b[K     |████████████████████████████████| 3.8 MB 50.8 MB/s \n",
            "\u001b[?25hRequirement already satisfied: astor>=0.6.0 in /usr/local/lib/python3.7/dist-packages (from tensorflow==1.15) (0.8.1)\n",
            "Requirement already satisfied: numpy<2.0,>=1.16.0 in /usr/local/lib/python3.7/dist-packages (from tensorflow==1.15) (1.19.5)\n",
            "Requirement already satisfied: opt-einsum>=2.3.2 in /usr/local/lib/python3.7/dist-packages (from tensorflow==1.15) (3.3.0)\n",
            "Collecting gast==0.2.2\n",
            "  Downloading gast-0.2.2.tar.gz (10 kB)\n",
            "Requirement already satisfied: wheel>=0.26 in /usr/local/lib/python3.7/dist-packages (from tensorflow==1.15) (0.37.0)\n",
            "Collecting tensorflow-estimator==1.15.1\n",
            "  Downloading tensorflow_estimator-1.15.1-py2.py3-none-any.whl (503 kB)\n",
            "\u001b[K     |████████████████████████████████| 503 kB 51.8 MB/s \n",
            "\u001b[?25hCollecting keras-applications>=1.0.8\n",
            "  Downloading Keras_Applications-1.0.8-py3-none-any.whl (50 kB)\n",
            "\u001b[K     |████████████████████████████████| 50 kB 6.2 MB/s \n",
            "\u001b[?25hRequirement already satisfied: absl-py>=0.7.0 in /usr/local/lib/python3.7/dist-packages (from tensorflow==1.15) (0.12.0)\n",
            "Requirement already satisfied: google-pasta>=0.1.6 in /usr/local/lib/python3.7/dist-packages (from tensorflow==1.15) (0.2.0)\n",
            "Requirement already satisfied: six>=1.10.0 in /usr/local/lib/python3.7/dist-packages (from tensorflow==1.15) (1.15.0)\n",
            "Requirement already satisfied: grpcio>=1.8.6 in /usr/local/lib/python3.7/dist-packages (from tensorflow==1.15) (1.42.0)\n",
            "Requirement already satisfied: termcolor>=1.1.0 in /usr/local/lib/python3.7/dist-packages (from tensorflow==1.15) (1.1.0)\n",
            "Requirement already satisfied: protobuf>=3.6.1 in /usr/local/lib/python3.7/dist-packages (from tensorflow==1.15) (3.17.3)\n",
            "Requirement already satisfied: h5py in /usr/local/lib/python3.7/dist-packages (from keras-applications>=1.0.8->tensorflow==1.15) (3.1.0)\n",
            "Requirement already satisfied: werkzeug>=0.11.15 in /usr/local/lib/python3.7/dist-packages (from tensorboard<1.16.0,>=1.15.0->tensorflow==1.15) (1.0.1)\n",
            "Requirement already satisfied: setuptools>=41.0.0 in /usr/local/lib/python3.7/dist-packages (from tensorboard<1.16.0,>=1.15.0->tensorflow==1.15) (57.4.0)\n",
            "Requirement already satisfied: markdown>=2.6.8 in /usr/local/lib/python3.7/dist-packages (from tensorboard<1.16.0,>=1.15.0->tensorflow==1.15) (3.3.6)\n",
            "Requirement already satisfied: importlib-metadata>=4.4 in /usr/local/lib/python3.7/dist-packages (from markdown>=2.6.8->tensorboard<1.16.0,>=1.15.0->tensorflow==1.15) (4.8.2)\n",
            "Requirement already satisfied: typing-extensions>=3.6.4 in /usr/local/lib/python3.7/dist-packages (from importlib-metadata>=4.4->markdown>=2.6.8->tensorboard<1.16.0,>=1.15.0->tensorflow==1.15) (3.10.0.2)\n",
            "Requirement already satisfied: zipp>=0.5 in /usr/local/lib/python3.7/dist-packages (from importlib-metadata>=4.4->markdown>=2.6.8->tensorboard<1.16.0,>=1.15.0->tensorflow==1.15) (3.6.0)\n",
            "Requirement already satisfied: cached-property in /usr/local/lib/python3.7/dist-packages (from h5py->keras-applications>=1.0.8->tensorflow==1.15) (1.5.2)\n",
            "Building wheels for collected packages: gast\n",
            "  Building wheel for gast (setup.py) ... \u001b[?25l\u001b[?25hdone\n",
            "  Created wheel for gast: filename=gast-0.2.2-py3-none-any.whl size=7554 sha256=2ba19382b618c21911a113dcc44a832f9aac1ba8fbf96fca741482d7534f2afe\n",
            "  Stored in directory: /root/.cache/pip/wheels/21/7f/02/420f32a803f7d0967b48dd823da3f558c5166991bfd204eef3\n",
            "Successfully built gast\n",
            "Installing collected packages: tensorflow-estimator, tensorboard, keras-applications, gast, tensorflow\n",
            "  Attempting uninstall: tensorflow-estimator\n",
            "    Found existing installation: tensorflow-estimator 2.7.0\n",
            "    Uninstalling tensorflow-estimator-2.7.0:\n",
            "      Successfully uninstalled tensorflow-estimator-2.7.0\n",
            "  Attempting uninstall: tensorboard\n",
            "    Found existing installation: tensorboard 2.7.0\n",
            "    Uninstalling tensorboard-2.7.0:\n",
            "      Successfully uninstalled tensorboard-2.7.0\n",
            "  Attempting uninstall: gast\n",
            "    Found existing installation: gast 0.4.0\n",
            "    Uninstalling gast-0.4.0:\n",
            "      Successfully uninstalled gast-0.4.0\n",
            "\u001b[31mERROR: pip's dependency resolver does not currently take into account all the packages that are installed. This behaviour is the source of the following dependency conflicts.\n",
            "tensorflow-probability 0.15.0 requires gast>=0.3.2, but you have gast 0.2.2 which is incompatible.\n",
            "kapre 0.3.6 requires tensorflow>=2.0.0, but you have tensorflow 1.15.0 which is incompatible.\u001b[0m\n",
            "Successfully installed gast-0.2.2 keras-applications-1.0.8 tensorboard-1.15.0 tensorflow-1.15.0 tensorflow-estimator-1.15.1\n"
          ]
        },
        {
          "output_type": "display_data",
          "data": {
            "application/vnd.colab-display-data+json": {
              "pip_warning": {
                "packages": [
                  "gast",
                  "tensorboard",
                  "tensorflow"
                ]
              }
            }
          },
          "metadata": {}
        }
      ]
    },
    {
      "cell_type": "code",
      "metadata": {
        "colab": {
          "base_uri": "https://localhost:8080/",
          "height": 1000
        },
        "id": "JFBQo7FXmBGm",
        "outputId": "f46405db-710d-46c0-be57-468d18bdc080"
      },
      "source": [
        "import tensorflow as tf\n",
        "import matplotlib.pyplot as plt\n",
        "import numpy as np\n",
        "\n",
        "from tensorflow.examples.tutorials.mnist import input_data\n",
        "mnist = input_data.read_data_sets(\"./mnist/data\", one_hot=True)\n",
        "\n",
        "# 옵션 설정\n",
        "\n",
        "learning_rate = 0.01\n",
        "total_epoch = 100\n",
        "batch_size = 100\n",
        "n_hidden1 = 256 \n",
        "n_hidden2 = 128  \n",
        "n_input = 28 * 28\n",
        "\n",
        "# 신경망 모델 구성\n",
        "# encoder와 decoder에 각각 1개의 layer 추가 \n",
        "# encoder layer, 중앙 hidden layer, decoder layer 노드 수 각각 256개, 128개, 256개\n",
        "\n",
        "X = tf.placeholder(tf.float32, [None, n_input])\n",
        "\n",
        "W1_encode = tf.Variable(tf.random_normal([n_input, n_hidden1]))\n",
        "b1_encode = tf.Variable(tf.random_normal([n_hidden1]))\n",
        "encoder1 = tf.nn.sigmoid(tf.add(tf.matmul(X, W1_encode), b1_encode))\n",
        "\n",
        "W2_encode = tf.Variable(tf.random_normal([n_hidden1, n_hidden2]))\n",
        "b2_encode = tf.Variable(tf.random_normal([n_hidden2]))\n",
        "encoder2 = tf.nn.sigmoid(tf.add(tf.matmul(encoder1, W2_encode), b2_encode))\n",
        "\n",
        "W1_decode = tf.Variable(tf.random_normal([n_hidden2, n_hidden1]))\n",
        "b1_decode = tf.Variable(tf.random_normal([n_hidden1]))\n",
        "decoder1 = tf.nn.sigmoid(tf.add(tf.matmul(encoder2, W1_decode), b1_decode))\n",
        "\n",
        "W2_decode = tf.Variable(tf.random_normal([n_hidden1, n_input]))\n",
        "b2_decode = tf.Variable(tf.random_normal([n_input]))\n",
        "decoder2 = tf.nn.sigmoid(tf.add(tf.matmul(decoder1, W2_decode), b2_decode))\n",
        "\n",
        "cost = tf.reduce_mean(tf.pow(X-decoder2, 2))\n",
        "optimizer = tf.train.AdamOptimizer(learning_rate).minimize(cost)\n",
        "\n",
        "# 신경망 모델 학습\n",
        "\n",
        "init = tf.global_variables_initializer()\n",
        "sess = tf.Session()\n",
        "sess.run(init)\n",
        "\n",
        "total_batch = int(mnist.train.num_examples / batch_size)\n",
        "\n",
        "for epoch in range(total_epoch):\n",
        "  total_cost = 0\n",
        "\n",
        "  for i in range(total_batch):\n",
        "    batch_xs, batch_ys = mnist.train.next_batch(batch_size)\n",
        "    _, cost_val = sess.run([optimizer, cost], feed_dict={X: batch_xs})\n",
        "\n",
        "    total_cost += cost_val\n",
        "  \n",
        "  print('Epoch:', '%04d' % (epoch + 1), 'Avg. cost = ', '{:.4f}'.\n",
        "        format(total_cost / total_batch))\n",
        "\n",
        "print('최적화 완료!')\n",
        "\n",
        "# 결과 확인\n",
        "\n",
        "sample_size = 10\n",
        "samples = sess.run(decoder2, feed_dict={X: mnist.test.images[:sample_size]})\n",
        "\n",
        "fig, ax = plt.subplots(2, sample_size, figsize=(sample_size, 2))\n",
        "\n",
        "for i in range(sample_size):\n",
        "  ax[0][i].set_axis_off()\n",
        "  ax[1][i].set_axis_off()\n",
        "  ax[0][i].imshow(np.reshape(mnist.test.images[i], (28, 28)))\n",
        "  ax[1][i].imshow(np.reshape(samples[i], (28, 28)))\n",
        "\n",
        "plt.show()"
      ],
      "execution_count": 2,
      "outputs": [
        {
          "output_type": "stream",
          "name": "stdout",
          "text": [
            "Extracting ./mnist/data/train-images-idx3-ubyte.gz\n",
            "Extracting ./mnist/data/train-labels-idx1-ubyte.gz\n",
            "Extracting ./mnist/data/t10k-images-idx3-ubyte.gz\n",
            "Extracting ./mnist/data/t10k-labels-idx1-ubyte.gz\n",
            "WARNING:tensorflow:From /usr/local/lib/python3.7/dist-packages/tensorflow_core/python/ops/math_grad.py:1375: where (from tensorflow.python.ops.array_ops) is deprecated and will be removed in a future version.\n",
            "Instructions for updating:\n",
            "Use tf.where in 2.0, which has the same broadcast rule as np.where\n",
            "Epoch: 0001 Avg. cost =  0.0891\n",
            "Epoch: 0002 Avg. cost =  0.0667\n",
            "Epoch: 0003 Avg. cost =  0.0595\n",
            "Epoch: 0004 Avg. cost =  0.0558\n",
            "Epoch: 0005 Avg. cost =  0.0541\n",
            "Epoch: 0006 Avg. cost =  0.0531\n",
            "Epoch: 0007 Avg. cost =  0.0520\n",
            "Epoch: 0008 Avg. cost =  0.0509\n",
            "Epoch: 0009 Avg. cost =  0.0501\n",
            "Epoch: 0010 Avg. cost =  0.0496\n",
            "Epoch: 0011 Avg. cost =  0.0489\n",
            "Epoch: 0012 Avg. cost =  0.0484\n",
            "Epoch: 0013 Avg. cost =  0.0481\n",
            "Epoch: 0014 Avg. cost =  0.0479\n",
            "Epoch: 0015 Avg. cost =  0.0477\n",
            "Epoch: 0016 Avg. cost =  0.0472\n",
            "Epoch: 0017 Avg. cost =  0.0468\n",
            "Epoch: 0018 Avg. cost =  0.0465\n",
            "Epoch: 0019 Avg. cost =  0.0463\n",
            "Epoch: 0020 Avg. cost =  0.0460\n",
            "Epoch: 0021 Avg. cost =  0.0457\n",
            "Epoch: 0022 Avg. cost =  0.0456\n",
            "Epoch: 0023 Avg. cost =  0.0455\n",
            "Epoch: 0024 Avg. cost =  0.0453\n",
            "Epoch: 0025 Avg. cost =  0.0451\n",
            "Epoch: 0026 Avg. cost =  0.0449\n",
            "Epoch: 0027 Avg. cost =  0.0449\n",
            "Epoch: 0028 Avg. cost =  0.0448\n",
            "Epoch: 0029 Avg. cost =  0.0448\n",
            "Epoch: 0030 Avg. cost =  0.0447\n",
            "Epoch: 0031 Avg. cost =  0.0445\n",
            "Epoch: 0032 Avg. cost =  0.0444\n",
            "Epoch: 0033 Avg. cost =  0.0442\n",
            "Epoch: 0034 Avg. cost =  0.0441\n",
            "Epoch: 0035 Avg. cost =  0.0440\n",
            "Epoch: 0036 Avg. cost =  0.0440\n",
            "Epoch: 0037 Avg. cost =  0.0439\n",
            "Epoch: 0038 Avg. cost =  0.0439\n",
            "Epoch: 0039 Avg. cost =  0.0438\n",
            "Epoch: 0040 Avg. cost =  0.0437\n",
            "Epoch: 0041 Avg. cost =  0.0438\n",
            "Epoch: 0042 Avg. cost =  0.0437\n",
            "Epoch: 0043 Avg. cost =  0.0437\n",
            "Epoch: 0044 Avg. cost =  0.0437\n",
            "Epoch: 0045 Avg. cost =  0.0437\n",
            "Epoch: 0046 Avg. cost =  0.0435\n",
            "Epoch: 0047 Avg. cost =  0.0435\n",
            "Epoch: 0048 Avg. cost =  0.0435\n",
            "Epoch: 0049 Avg. cost =  0.0435\n",
            "Epoch: 0050 Avg. cost =  0.0434\n",
            "Epoch: 0051 Avg. cost =  0.0435\n",
            "Epoch: 0052 Avg. cost =  0.0434\n",
            "Epoch: 0053 Avg. cost =  0.0434\n",
            "Epoch: 0054 Avg. cost =  0.0433\n",
            "Epoch: 0055 Avg. cost =  0.0433\n",
            "Epoch: 0056 Avg. cost =  0.0433\n",
            "Epoch: 0057 Avg. cost =  0.0432\n",
            "Epoch: 0058 Avg. cost =  0.0432\n",
            "Epoch: 0059 Avg. cost =  0.0432\n",
            "Epoch: 0060 Avg. cost =  0.0432\n",
            "Epoch: 0061 Avg. cost =  0.0431\n",
            "Epoch: 0062 Avg. cost =  0.0431\n",
            "Epoch: 0063 Avg. cost =  0.0432\n",
            "Epoch: 0064 Avg. cost =  0.0431\n",
            "Epoch: 0065 Avg. cost =  0.0431\n",
            "Epoch: 0066 Avg. cost =  0.0431\n",
            "Epoch: 0067 Avg. cost =  0.0430\n",
            "Epoch: 0068 Avg. cost =  0.0431\n",
            "Epoch: 0069 Avg. cost =  0.0430\n",
            "Epoch: 0070 Avg. cost =  0.0430\n",
            "Epoch: 0071 Avg. cost =  0.0430\n",
            "Epoch: 0072 Avg. cost =  0.0429\n",
            "Epoch: 0073 Avg. cost =  0.0429\n",
            "Epoch: 0074 Avg. cost =  0.0430\n",
            "Epoch: 0075 Avg. cost =  0.0429\n",
            "Epoch: 0076 Avg. cost =  0.0429\n",
            "Epoch: 0077 Avg. cost =  0.0428\n",
            "Epoch: 0078 Avg. cost =  0.0428\n",
            "Epoch: 0079 Avg. cost =  0.0428\n",
            "Epoch: 0080 Avg. cost =  0.0428\n",
            "Epoch: 0081 Avg. cost =  0.0428\n",
            "Epoch: 0082 Avg. cost =  0.0427\n",
            "Epoch: 0083 Avg. cost =  0.0428\n",
            "Epoch: 0084 Avg. cost =  0.0428\n",
            "Epoch: 0085 Avg. cost =  0.0427\n",
            "Epoch: 0086 Avg. cost =  0.0428\n",
            "Epoch: 0087 Avg. cost =  0.0427\n",
            "Epoch: 0088 Avg. cost =  0.0427\n",
            "Epoch: 0089 Avg. cost =  0.0427\n",
            "Epoch: 0090 Avg. cost =  0.0426\n",
            "Epoch: 0091 Avg. cost =  0.0427\n",
            "Epoch: 0092 Avg. cost =  0.0427\n",
            "Epoch: 0093 Avg. cost =  0.0426\n",
            "Epoch: 0094 Avg. cost =  0.0427\n",
            "Epoch: 0095 Avg. cost =  0.0427\n",
            "Epoch: 0096 Avg. cost =  0.0426\n",
            "Epoch: 0097 Avg. cost =  0.0426\n",
            "Epoch: 0098 Avg. cost =  0.0426\n",
            "Epoch: 0099 Avg. cost =  0.0426\n",
            "Epoch: 0100 Avg. cost =  0.0426\n",
            "최적화 완료!\n"
          ]
        },
        {
          "output_type": "display_data",
          "data": {
            "image/png": "[encoded data removed]",
            "text/plain": [
              "<Figure size 720x144 with 20 Axes>"
            ]
          },
          "metadata": {
            "needs_background": "light"
          }
        }
      ]
    }
  ]
}