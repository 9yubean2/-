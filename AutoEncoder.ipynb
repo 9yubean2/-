{
  "nbformat": 4,
  "nbformat_minor": 0,
  "metadata": {
    "colab": {
      "name": "AutoEncoder.ipynb",
      "provenance": [],
      "collapsed_sections": [],
      "authorship_tag": "ABX9TyOYbI0PhuAtBBsWsn6pAK7e",
      "include_colab_link": true
    },
    "kernelspec": {
      "name": "python3",
      "display_name": "Python 3"
    },
    "language_info": {
      "name": "python"
    }
  },
  "cells": [
    {
      "cell_type": "markdown",
      "metadata": {
        "id": "view-in-github",
        "colab_type": "text"
      },
      "source": [
        "<a href=\"https://colab.research.google.com/github/9yubean2/ArtificialIntelligence/blob/main/AutoEncoder.ipynb\" target=\"_parent\"><img src=\"https://colab.research.google.com/assets/colab-badge.svg\" alt=\"Open In Colab\"/></a>"
      ]
    },
    {
      "cell_type": "code",
      "metadata": {
        "colab": {
          "base_uri": "https://localhost:8080/"
        },
        "id": "JFtNdKdHKANg",
        "outputId": "9bca39ce-5124-4baf-a455-0404ec6958ab"
      },
      "source": [
        "import tensorflow as tf\n",
        "print(tf.__version__)"
      ],
      "execution_count": 1,
      "outputs": [
        {
          "output_type": "stream",
          "name": "stdout",
          "text": [
            "2.7.0\n"
          ]
        }
      ]
    },
    {
      "cell_type": "code",
      "metadata": {
        "colab": {
          "base_uri": "https://localhost:8080/"
        },
        "id": "1p2APuEKKD-S",
        "outputId": "b924b23d-e9b5-4856-defa-39bd1cf642b2"
      },
      "source": [
        "!pip uninstall tensorflow"
      ],
      "execution_count": 2,
      "outputs": [
        {
          "output_type": "stream",
          "name": "stdout",
          "text": [
            "Found existing installation: tensorflow 2.7.0\n",
            "Uninstalling tensorflow-2.7.0:\n",
            "  Would remove:\n",
            "    /usr/local/bin/estimator_ckpt_converter\n",
            "    /usr/local/bin/import_pb_to_tensorboard\n",
            "    /usr/local/bin/saved_model_cli\n",
            "    /usr/local/bin/tensorboard\n",
            "    /usr/local/bin/tf_upgrade_v2\n",
            "    /usr/local/bin/tflite_convert\n",
            "    /usr/local/bin/toco\n",
            "    /usr/local/bin/toco_from_protos\n",
            "    /usr/local/lib/python3.7/dist-packages/tensorflow-2.7.0.dist-info/*\n",
            "    /usr/local/lib/python3.7/dist-packages/tensorflow/*\n",
            "Proceed (y/n)? y\n",
            "  Successfully uninstalled tensorflow-2.7.0\n"
          ]
        }
      ]
    },
    {
      "cell_type": "code",
      "metadata": {
        "colab": {
          "base_uri": "https://localhost:8080/",
          "height": 1000
        },
        "id": "cVpeqHr6KG10",
        "outputId": "74033140-2e7f-48bc-b18e-54acb3515682"
      },
      "source": [
        "!pip install tensorflow==1.15"
      ],
      "execution_count": 3,
      "outputs": [
        {
          "output_type": "stream",
          "name": "stdout",
          "text": [
            "Collecting tensorflow==1.15\n",
            "  Downloading tensorflow-1.15.0-cp37-cp37m-manylinux2010_x86_64.whl (412.3 MB)\n",
            "\u001b[K     |████████████████████████████████| 412.3 MB 25 kB/s \n",
            "\u001b[?25hCollecting gast==0.2.2\n",
            "  Downloading gast-0.2.2.tar.gz (10 kB)\n",
            "Requirement already satisfied: google-pasta>=0.1.6 in /usr/local/lib/python3.7/dist-packages (from tensorflow==1.15) (0.2.0)\n",
            "Requirement already satisfied: opt-einsum>=2.3.2 in /usr/local/lib/python3.7/dist-packages (from tensorflow==1.15) (3.3.0)\n",
            "Requirement already satisfied: keras-preprocessing>=1.0.5 in /usr/local/lib/python3.7/dist-packages (from tensorflow==1.15) (1.1.2)\n",
            "Collecting tensorflow-estimator==1.15.1\n",
            "  Downloading tensorflow_estimator-1.15.1-py2.py3-none-any.whl (503 kB)\n",
            "\u001b[K     |████████████████████████████████| 503 kB 47.3 MB/s \n",
            "\u001b[?25hRequirement already satisfied: grpcio>=1.8.6 in /usr/local/lib/python3.7/dist-packages (from tensorflow==1.15) (1.42.0)\n",
            "Requirement already satisfied: protobuf>=3.6.1 in /usr/local/lib/python3.7/dist-packages (from tensorflow==1.15) (3.17.3)\n",
            "Requirement already satisfied: numpy<2.0,>=1.16.0 in /usr/local/lib/python3.7/dist-packages (from tensorflow==1.15) (1.19.5)\n",
            "Requirement already satisfied: absl-py>=0.7.0 in /usr/local/lib/python3.7/dist-packages (from tensorflow==1.15) (0.12.0)\n",
            "Requirement already satisfied: six>=1.10.0 in /usr/local/lib/python3.7/dist-packages (from tensorflow==1.15) (1.15.0)\n",
            "Collecting tensorboard<1.16.0,>=1.15.0\n",
            "  Downloading tensorboard-1.15.0-py3-none-any.whl (3.8 MB)\n",
            "\u001b[K     |████████████████████████████████| 3.8 MB 28.4 MB/s \n",
            "\u001b[?25hRequirement already satisfied: astor>=0.6.0 in /usr/local/lib/python3.7/dist-packages (from tensorflow==1.15) (0.8.1)\n",
            "Requirement already satisfied: termcolor>=1.1.0 in /usr/local/lib/python3.7/dist-packages (from tensorflow==1.15) (1.1.0)\n",
            "Requirement already satisfied: wrapt>=1.11.1 in /usr/local/lib/python3.7/dist-packages (from tensorflow==1.15) (1.13.3)\n",
            "Requirement already satisfied: wheel>=0.26 in /usr/local/lib/python3.7/dist-packages (from tensorflow==1.15) (0.37.0)\n",
            "Collecting keras-applications>=1.0.8\n",
            "  Downloading Keras_Applications-1.0.8-py3-none-any.whl (50 kB)\n",
            "\u001b[K     |████████████████████████████████| 50 kB 6.5 MB/s \n",
            "\u001b[?25hRequirement already satisfied: h5py in /usr/local/lib/python3.7/dist-packages (from keras-applications>=1.0.8->tensorflow==1.15) (3.1.0)\n",
            "Requirement already satisfied: werkzeug>=0.11.15 in /usr/local/lib/python3.7/dist-packages (from tensorboard<1.16.0,>=1.15.0->tensorflow==1.15) (1.0.1)\n",
            "Requirement already satisfied: markdown>=2.6.8 in /usr/local/lib/python3.7/dist-packages (from tensorboard<1.16.0,>=1.15.0->tensorflow==1.15) (3.3.6)\n",
            "Requirement already satisfied: setuptools>=41.0.0 in /usr/local/lib/python3.7/dist-packages (from tensorboard<1.16.0,>=1.15.0->tensorflow==1.15) (57.4.0)\n",
            "Requirement already satisfied: importlib-metadata>=4.4 in /usr/local/lib/python3.7/dist-packages (from markdown>=2.6.8->tensorboard<1.16.0,>=1.15.0->tensorflow==1.15) (4.8.2)\n",
            "Requirement already satisfied: typing-extensions>=3.6.4 in /usr/local/lib/python3.7/dist-packages (from importlib-metadata>=4.4->markdown>=2.6.8->tensorboard<1.16.0,>=1.15.0->tensorflow==1.15) (3.10.0.2)\n",
            "Requirement already satisfied: zipp>=0.5 in /usr/local/lib/python3.7/dist-packages (from importlib-metadata>=4.4->markdown>=2.6.8->tensorboard<1.16.0,>=1.15.0->tensorflow==1.15) (3.6.0)\n",
            "Requirement already satisfied: cached-property in /usr/local/lib/python3.7/dist-packages (from h5py->keras-applications>=1.0.8->tensorflow==1.15) (1.5.2)\n",
            "Building wheels for collected packages: gast\n",
            "  Building wheel for gast (setup.py) ... \u001b[?25l\u001b[?25hdone\n",
            "  Created wheel for gast: filename=gast-0.2.2-py3-none-any.whl size=7554 sha256=734d79b73e88021d11d5f8884b6177570c5054afeeb09533a76ce19965889951\n",
            "  Stored in directory: /root/.cache/pip/wheels/21/7f/02/420f32a803f7d0967b48dd823da3f558c5166991bfd204eef3\n",
            "Successfully built gast\n",
            "Installing collected packages: tensorflow-estimator, tensorboard, keras-applications, gast, tensorflow\n",
            "  Attempting uninstall: tensorflow-estimator\n",
            "    Found existing installation: tensorflow-estimator 2.7.0\n",
            "    Uninstalling tensorflow-estimator-2.7.0:\n",
            "      Successfully uninstalled tensorflow-estimator-2.7.0\n",
            "  Attempting uninstall: tensorboard\n",
            "    Found existing installation: tensorboard 2.7.0\n",
            "    Uninstalling tensorboard-2.7.0:\n",
            "      Successfully uninstalled tensorboard-2.7.0\n",
            "  Attempting uninstall: gast\n",
            "    Found existing installation: gast 0.4.0\n",
            "    Uninstalling gast-0.4.0:\n",
            "      Successfully uninstalled gast-0.4.0\n",
            "\u001b[31mERROR: pip's dependency resolver does not currently take into account all the packages that are installed. This behaviour is the source of the following dependency conflicts.\n",
            "tensorflow-probability 0.15.0 requires gast>=0.3.2, but you have gast 0.2.2 which is incompatible.\n",
            "kapre 0.3.6 requires tensorflow>=2.0.0, but you have tensorflow 1.15.0 which is incompatible.\u001b[0m\n",
            "Successfully installed gast-0.2.2 keras-applications-1.0.8 tensorboard-1.15.0 tensorflow-1.15.0 tensorflow-estimator-1.15.1\n"
          ]
        },
        {
          "output_type": "display_data",
          "data": {
            "application/vnd.colab-display-data+json": {
              "pip_warning": {
                "packages": [
                  "gast",
                  "tensorboard",
                  "tensorflow"
                ]
              }
            }
          },
          "metadata": {}
        }
      ]
    },
    {
      "cell_type": "code",
      "metadata": {
        "colab": {
          "base_uri": "https://localhost:8080/",
          "height": 1000
        },
        "id": "GoWrjTioKM-q",
        "outputId": "5c6e1b63-617e-491f-d140-5597a1ab4fa5"
      },
      "source": [
        "import tensorflow as tf\n",
        "import matplotlib.pyplot as plt\n",
        "import numpy as np\n",
        "\n",
        "from tensorflow.examples.tutorials.mnist import input_data\n",
        "mnist = input_data.read_data_sets(\"./mnist/data\", one_hot=True)\n",
        "\n",
        "# 옵션 설정\n",
        "\n",
        "learning_rate = 0.01\n",
        "total_epoch = 100 #변경\n",
        "batch_size = 100\n",
        "n_hidden = 100 #변경\n",
        "n_input = 28 * 28\n",
        "\n",
        "# 신경망 모델 구성\n",
        "\n",
        "X = tf.placeholder(tf.float32, [None, n_input])\n",
        "\n",
        "W_encode = tf.Variable(tf.random_normal([n_input, n_hidden]))\n",
        "b_encode = tf.Variable(tf.random_normal([n_hidden]))\n",
        "encoder = tf.nn.sigmoid(tf.add(tf.matmul(X, W_encode), b_encode))\n",
        "\n",
        "W_decode = tf.Variable(tf.random_normal([n_hidden, n_input]))\n",
        "b_decode = tf.Variable(tf.random_normal([n_input]))\n",
        "decoder = tf.nn.sigmoid(tf.add(tf.matmul(encoder, W_decode), b_decode))\n",
        "\n",
        "cost = tf.reduce_mean(tf.pow(X-decoder, 2))\n",
        "optimizer = tf.train.RMSPropOptimizer(learning_rate).minimize(cost)\n",
        "\n",
        "# 신경망 모델 학습\n",
        "\n",
        "init = tf.global_variables_initializer()\n",
        "sess = tf.Session()\n",
        "sess.run(init)\n",
        "\n",
        "total_batch = int(mnist.train.num_examples / batch_size)\n",
        "\n",
        "for epoch in range(total_epoch):\n",
        "  total_cost = 0\n",
        "\n",
        "  for i in range(total_batch):\n",
        "    batch_xs, batch_ys = mnist.train.next_batch(batch_size)\n",
        "    _, cost_val = sess.run([optimizer, cost], feed_dict={X: batch_xs})\n",
        "\n",
        "    total_cost += cost_val\n",
        "  \n",
        "  print('Epoch:', '%04d' % (epoch + 1), 'Avg. cost = ', '{:.4f}'.\n",
        "        format(total_cost / total_batch))\n",
        "\n",
        "print('최적화 완료!')\n",
        "\n",
        "# 결과 확인\n",
        "\n",
        "sample_size = 10\n",
        "samples = sess.run(decoder, feed_dict={X: mnist.test.images[:sample_size]})\n",
        "\n",
        "fig, ax = plt.subplots(2, sample_size, figsize=(sample_size, 2))\n",
        "\n",
        "for i in range(sample_size):\n",
        "  ax[0][i].set_axis_off()\n",
        "  ax[1][i].set_axis_off()\n",
        "  ax[0][i].imshow(np.reshape(mnist.test.images[i], (28, 28)))\n",
        "  ax[1][i].imshow(np.reshape(samples[i], (28, 28)))\n",
        "\n",
        "plt.show()"
      ],
      "execution_count": 2,
      "outputs": [
        {
          "output_type": "stream",
          "name": "stdout",
          "text": [
            "WARNING:tensorflow:From <ipython-input-2-bfa88050f525>:6: read_data_sets (from tensorflow.contrib.learn.python.learn.datasets.mnist) is deprecated and will be removed in a future version.\n",
            "Instructions for updating:\n",
            "Please use alternatives such as official/mnist/dataset.py from tensorflow/models.\n",
            "WARNING:tensorflow:From /usr/local/lib/python3.7/dist-packages/tensorflow_core/contrib/learn/python/learn/datasets/mnist.py:260: maybe_download (from tensorflow.contrib.learn.python.learn.datasets.base) is deprecated and will be removed in a future version.\n",
            "Instructions for updating:\n",
            "Please write your own downloading logic.\n",
            "WARNING:tensorflow:From /usr/local/lib/python3.7/dist-packages/tensorflow_core/contrib/learn/python/learn/datasets/base.py:252: _internal_retry.<locals>.wrap.<locals>.wrapped_fn (from tensorflow.contrib.learn.python.learn.datasets.base) is deprecated and will be removed in a future version.\n",
            "Instructions for updating:\n",
            "Please use urllib or similar directly.\n",
            "Successfully downloaded train-images-idx3-ubyte.gz 9912422 bytes.\n",
            "WARNING:tensorflow:From /usr/local/lib/python3.7/dist-packages/tensorflow_core/contrib/learn/python/learn/datasets/mnist.py:262: extract_images (from tensorflow.contrib.learn.python.learn.datasets.mnist) is deprecated and will be removed in a future version.\n",
            "Instructions for updating:\n",
            "Please use tf.data to implement this functionality.\n",
            "Extracting ./mnist/data/train-images-idx3-ubyte.gz\n",
            "Successfully downloaded train-labels-idx1-ubyte.gz 28881 bytes.\n",
            "WARNING:tensorflow:From /usr/local/lib/python3.7/dist-packages/tensorflow_core/contrib/learn/python/learn/datasets/mnist.py:267: extract_labels (from tensorflow.contrib.learn.python.learn.datasets.mnist) is deprecated and will be removed in a future version.\n",
            "Instructions for updating:\n",
            "Please use tf.data to implement this functionality.\n",
            "Extracting ./mnist/data/train-labels-idx1-ubyte.gz\n",
            "WARNING:tensorflow:From /usr/local/lib/python3.7/dist-packages/tensorflow_core/contrib/learn/python/learn/datasets/mnist.py:110: dense_to_one_hot (from tensorflow.contrib.learn.python.learn.datasets.mnist) is deprecated and will be removed in a future version.\n",
            "Instructions for updating:\n",
            "Please use tf.one_hot on tensors.\n",
            "Successfully downloaded t10k-images-idx3-ubyte.gz 1648877 bytes.\n",
            "Extracting ./mnist/data/t10k-images-idx3-ubyte.gz\n",
            "Successfully downloaded t10k-labels-idx1-ubyte.gz 4542 bytes.\n",
            "Extracting ./mnist/data/t10k-labels-idx1-ubyte.gz\n",
            "WARNING:tensorflow:From /usr/local/lib/python3.7/dist-packages/tensorflow_core/contrib/learn/python/learn/datasets/mnist.py:290: DataSet.__init__ (from tensorflow.contrib.learn.python.learn.datasets.mnist) is deprecated and will be removed in a future version.\n",
            "Instructions for updating:\n",
            "Please use alternatives such as official/mnist/dataset.py from tensorflow/models.\n",
            "WARNING:tensorflow:From /usr/local/lib/python3.7/dist-packages/tensorflow_core/python/ops/math_grad.py:1375: where (from tensorflow.python.ops.array_ops) is deprecated and will be removed in a future version.\n",
            "Instructions for updating:\n",
            "Use tf.where in 2.0, which has the same broadcast rule as np.where\n",
            "WARNING:tensorflow:From /usr/local/lib/python3.7/dist-packages/tensorflow_core/python/training/rmsprop.py:119: calling Ones.__init__ (from tensorflow.python.ops.init_ops) with dtype is deprecated and will be removed in a future version.\n",
            "Instructions for updating:\n",
            "Call initializer instance with the dtype argument instead of passing it to the constructor\n",
            "Epoch: 0001 Avg. cost =  0.1901\n",
            "Epoch: 0002 Avg. cost =  0.0671\n",
            "Epoch: 0003 Avg. cost =  0.0566\n",
            "Epoch: 0004 Avg. cost =  0.0522\n",
            "Epoch: 0005 Avg. cost =  0.0493\n",
            "Epoch: 0006 Avg. cost =  0.0463\n",
            "Epoch: 0007 Avg. cost =  0.0450\n",
            "Epoch: 0008 Avg. cost =  0.0440\n",
            "Epoch: 0009 Avg. cost =  0.0428\n",
            "Epoch: 0010 Avg. cost =  0.0421\n",
            "Epoch: 0011 Avg. cost =  0.0415\n",
            "Epoch: 0012 Avg. cost =  0.0401\n",
            "Epoch: 0013 Avg. cost =  0.0394\n",
            "Epoch: 0014 Avg. cost =  0.0389\n",
            "Epoch: 0015 Avg. cost =  0.0384\n",
            "Epoch: 0016 Avg. cost =  0.0380\n",
            "Epoch: 0017 Avg. cost =  0.0373\n",
            "Epoch: 0018 Avg. cost =  0.0368\n",
            "Epoch: 0019 Avg. cost =  0.0363\n",
            "Epoch: 0020 Avg. cost =  0.0358\n",
            "Epoch: 0021 Avg. cost =  0.0355\n",
            "Epoch: 0022 Avg. cost =  0.0352\n",
            "Epoch: 0023 Avg. cost =  0.0350\n",
            "Epoch: 0024 Avg. cost =  0.0349\n",
            "Epoch: 0025 Avg. cost =  0.0347\n",
            "Epoch: 0026 Avg. cost =  0.0342\n",
            "Epoch: 0027 Avg. cost =  0.0340\n",
            "Epoch: 0028 Avg. cost =  0.0339\n",
            "Epoch: 0029 Avg. cost =  0.0338\n",
            "Epoch: 0030 Avg. cost =  0.0336\n",
            "Epoch: 0031 Avg. cost =  0.0335\n",
            "Epoch: 0032 Avg. cost =  0.0333\n",
            "Epoch: 0033 Avg. cost =  0.0329\n",
            "Epoch: 0034 Avg. cost =  0.0314\n",
            "Epoch: 0035 Avg. cost =  0.0302\n",
            "Epoch: 0036 Avg. cost =  0.0301\n",
            "Epoch: 0037 Avg. cost =  0.0300\n",
            "Epoch: 0038 Avg. cost =  0.0299\n",
            "Epoch: 0039 Avg. cost =  0.0299\n",
            "Epoch: 0040 Avg. cost =  0.0298\n",
            "Epoch: 0041 Avg. cost =  0.0297\n",
            "Epoch: 0042 Avg. cost =  0.0297\n",
            "Epoch: 0043 Avg. cost =  0.0296\n",
            "Epoch: 0044 Avg. cost =  0.0296\n",
            "Epoch: 0045 Avg. cost =  0.0295\n",
            "Epoch: 0046 Avg. cost =  0.0295\n",
            "Epoch: 0047 Avg. cost =  0.0294\n",
            "Epoch: 0048 Avg. cost =  0.0290\n",
            "Epoch: 0049 Avg. cost =  0.0278\n",
            "Epoch: 0050 Avg. cost =  0.0277\n",
            "Epoch: 0051 Avg. cost =  0.0271\n",
            "Epoch: 0052 Avg. cost =  0.0262\n",
            "Epoch: 0053 Avg. cost =  0.0262\n",
            "Epoch: 0054 Avg. cost =  0.0261\n",
            "Epoch: 0055 Avg. cost =  0.0261\n",
            "Epoch: 0056 Avg. cost =  0.0260\n",
            "Epoch: 0057 Avg. cost =  0.0260\n",
            "Epoch: 0058 Avg. cost =  0.0259\n",
            "Epoch: 0059 Avg. cost =  0.0258\n",
            "Epoch: 0060 Avg. cost =  0.0256\n",
            "Epoch: 0061 Avg. cost =  0.0252\n",
            "Epoch: 0062 Avg. cost =  0.0243\n",
            "Epoch: 0063 Avg. cost =  0.0236\n",
            "Epoch: 0064 Avg. cost =  0.0235\n",
            "Epoch: 0065 Avg. cost =  0.0232\n",
            "Epoch: 0066 Avg. cost =  0.0230\n",
            "Epoch: 0067 Avg. cost =  0.0228\n",
            "Epoch: 0068 Avg. cost =  0.0226\n",
            "Epoch: 0069 Avg. cost =  0.0225\n",
            "Epoch: 0070 Avg. cost =  0.0223\n",
            "Epoch: 0071 Avg. cost =  0.0222\n",
            "Epoch: 0072 Avg. cost =  0.0221\n",
            "Epoch: 0073 Avg. cost =  0.0221\n",
            "Epoch: 0074 Avg. cost =  0.0220\n",
            "Epoch: 0075 Avg. cost =  0.0219\n",
            "Epoch: 0076 Avg. cost =  0.0219\n",
            "Epoch: 0077 Avg. cost =  0.0218\n",
            "Epoch: 0078 Avg. cost =  0.0218\n",
            "Epoch: 0079 Avg. cost =  0.0218\n",
            "Epoch: 0080 Avg. cost =  0.0217\n",
            "Epoch: 0081 Avg. cost =  0.0217\n",
            "Epoch: 0082 Avg. cost =  0.0216\n",
            "Epoch: 0083 Avg. cost =  0.0216\n",
            "Epoch: 0084 Avg. cost =  0.0216\n",
            "Epoch: 0085 Avg. cost =  0.0216\n",
            "Epoch: 0086 Avg. cost =  0.0215\n",
            "Epoch: 0087 Avg. cost =  0.0215\n",
            "Epoch: 0088 Avg. cost =  0.0214\n",
            "Epoch: 0089 Avg. cost =  0.0213\n",
            "Epoch: 0090 Avg. cost =  0.0212\n",
            "Epoch: 0091 Avg. cost =  0.0211\n",
            "Epoch: 0092 Avg. cost =  0.0211\n",
            "Epoch: 0093 Avg. cost =  0.0210\n",
            "Epoch: 0094 Avg. cost =  0.0210\n",
            "Epoch: 0095 Avg. cost =  0.0209\n",
            "Epoch: 0096 Avg. cost =  0.0209\n",
            "Epoch: 0097 Avg. cost =  0.0209\n",
            "Epoch: 0098 Avg. cost =  0.0208\n",
            "Epoch: 0099 Avg. cost =  0.0208\n",
            "Epoch: 0100 Avg. cost =  0.0208\n",
            "최적화 완료!\n"
          ]
        },
        {
          "output_type": "display_data",
          "data": {
            "image/png": "[encoded data removed]",
            "text/plain": [
              "<Figure size 720x144 with 20 Axes>"
            ]
          },
          "metadata": {
            "needs_background": "light"
          }
        }
      ]
    }
  ]
}