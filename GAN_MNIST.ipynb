{
  "nbformat": 4,
  "nbformat_minor": 0,
  "metadata": {
    "colab": {
      "name": "GAN_MNIST.ipynb",
      "provenance": [],
      "collapsed_sections": [],
      "include_colab_link": true
    },
    "kernelspec": {
      "name": "python3",
      "display_name": "Python 3"
    },
    "language_info": {
      "name": "python"
    },
    "accelerator": "GPU"
  },
  "cells": [
    {
      "cell_type": "markdown",
      "metadata": {
        "id": "view-in-github",
        "colab_type": "text"
      },
      "source": [
        "<a href=\"https://colab.research.google.com/github/9yubean2/ArtificialIntelligence/blob/main/GAN_MNIST.ipynb\" target=\"_parent\"><img src=\"https://colab.research.google.com/assets/colab-badge.svg\" alt=\"Open In Colab\"/></a>"
      ]
    },
    {
      "cell_type": "code",
      "metadata": {
        "id": "3wUYf7vzejL3",
        "colab": {
          "base_uri": "https://localhost:8080/"
        },
        "outputId": "e91ac683-856f-42b8-93a5-cf29c8988e98"
      },
      "source": [
        "import tensorflow as tf\n",
        "print(tf.__version__)"
      ],
      "execution_count": 1,
      "outputs": [
        {
          "output_type": "stream",
          "name": "stdout",
          "text": [
            "2.7.0\n"
          ]
        }
      ]
    },
    {
      "cell_type": "code",
      "metadata": {
        "id": "RGmhoUu2fJxx",
        "colab": {
          "base_uri": "https://localhost:8080/"
        },
        "outputId": "72c0d69f-4c68-497f-8743-321136cefde2"
      },
      "source": [
        "!pip uninstall tensorflow"
      ],
      "execution_count": 2,
      "outputs": [
        {
          "output_type": "stream",
          "name": "stdout",
          "text": [
            "Found existing installation: tensorflow 2.7.0\n",
            "Uninstalling tensorflow-2.7.0:\n",
            "  Would remove:\n",
            "    /usr/local/bin/estimator_ckpt_converter\n",
            "    /usr/local/bin/import_pb_to_tensorboard\n",
            "    /usr/local/bin/saved_model_cli\n",
            "    /usr/local/bin/tensorboard\n",
            "    /usr/local/bin/tf_upgrade_v2\n",
            "    /usr/local/bin/tflite_convert\n",
            "    /usr/local/bin/toco\n",
            "    /usr/local/bin/toco_from_protos\n",
            "    /usr/local/lib/python3.7/dist-packages/tensorflow-2.7.0.dist-info/*\n",
            "    /usr/local/lib/python3.7/dist-packages/tensorflow/*\n",
            "Proceed (y/n)? y\n",
            "  Successfully uninstalled tensorflow-2.7.0\n"
          ]
        }
      ]
    },
    {
      "cell_type": "code",
      "metadata": {
        "colab": {
          "base_uri": "https://localhost:8080/",
          "height": 1000
        },
        "id": "iZiSliVLU6Cy",
        "outputId": "e43f7830-5642-4ca4-cbfd-b4ae40f62582"
      },
      "source": [
        "!pip install tensorflow==1.15"
      ],
      "execution_count": 3,
      "outputs": [
        {
          "output_type": "stream",
          "name": "stdout",
          "text": [
            "Collecting tensorflow==1.15\n",
            "  Downloading tensorflow-1.15.0-cp37-cp37m-manylinux2010_x86_64.whl (412.3 MB)\n",
            "\u001b[K     |████████████████████████████████| 412.3 MB 27 kB/s \n",
            "\u001b[?25hRequirement already satisfied: termcolor>=1.1.0 in /usr/local/lib/python3.7/dist-packages (from tensorflow==1.15) (1.1.0)\n",
            "Collecting keras-applications>=1.0.8\n",
            "  Downloading Keras_Applications-1.0.8-py3-none-any.whl (50 kB)\n",
            "\u001b[K     |████████████████████████████████| 50 kB 6.6 MB/s \n",
            "\u001b[?25hRequirement already satisfied: google-pasta>=0.1.6 in /usr/local/lib/python3.7/dist-packages (from tensorflow==1.15) (0.2.0)\n",
            "Requirement already satisfied: six>=1.10.0 in /usr/local/lib/python3.7/dist-packages (from tensorflow==1.15) (1.15.0)\n",
            "Requirement already satisfied: absl-py>=0.7.0 in /usr/local/lib/python3.7/dist-packages (from tensorflow==1.15) (0.12.0)\n",
            "Requirement already satisfied: numpy<2.0,>=1.16.0 in /usr/local/lib/python3.7/dist-packages (from tensorflow==1.15) (1.19.5)\n",
            "Requirement already satisfied: keras-preprocessing>=1.0.5 in /usr/local/lib/python3.7/dist-packages (from tensorflow==1.15) (1.1.2)\n",
            "Collecting tensorboard<1.16.0,>=1.15.0\n",
            "  Downloading tensorboard-1.15.0-py3-none-any.whl (3.8 MB)\n",
            "\u001b[K     |████████████████████████████████| 3.8 MB 42.5 MB/s \n",
            "\u001b[?25hCollecting gast==0.2.2\n",
            "  Downloading gast-0.2.2.tar.gz (10 kB)\n",
            "Requirement already satisfied: grpcio>=1.8.6 in /usr/local/lib/python3.7/dist-packages (from tensorflow==1.15) (1.42.0)\n",
            "Collecting tensorflow-estimator==1.15.1\n",
            "  Downloading tensorflow_estimator-1.15.1-py2.py3-none-any.whl (503 kB)\n",
            "\u001b[K     |████████████████████████████████| 503 kB 36.2 MB/s \n",
            "\u001b[?25hRequirement already satisfied: astor>=0.6.0 in /usr/local/lib/python3.7/dist-packages (from tensorflow==1.15) (0.8.1)\n",
            "Requirement already satisfied: opt-einsum>=2.3.2 in /usr/local/lib/python3.7/dist-packages (from tensorflow==1.15) (3.3.0)\n",
            "Requirement already satisfied: wheel>=0.26 in /usr/local/lib/python3.7/dist-packages (from tensorflow==1.15) (0.37.0)\n",
            "Requirement already satisfied: protobuf>=3.6.1 in /usr/local/lib/python3.7/dist-packages (from tensorflow==1.15) (3.17.3)\n",
            "Requirement already satisfied: wrapt>=1.11.1 in /usr/local/lib/python3.7/dist-packages (from tensorflow==1.15) (1.13.3)\n",
            "Requirement already satisfied: h5py in /usr/local/lib/python3.7/dist-packages (from keras-applications>=1.0.8->tensorflow==1.15) (3.1.0)\n",
            "Requirement already satisfied: setuptools>=41.0.0 in /usr/local/lib/python3.7/dist-packages (from tensorboard<1.16.0,>=1.15.0->tensorflow==1.15) (57.4.0)\n",
            "Requirement already satisfied: markdown>=2.6.8 in /usr/local/lib/python3.7/dist-packages (from tensorboard<1.16.0,>=1.15.0->tensorflow==1.15) (3.3.6)\n",
            "Requirement already satisfied: werkzeug>=0.11.15 in /usr/local/lib/python3.7/dist-packages (from tensorboard<1.16.0,>=1.15.0->tensorflow==1.15) (1.0.1)\n",
            "Requirement already satisfied: importlib-metadata>=4.4 in /usr/local/lib/python3.7/dist-packages (from markdown>=2.6.8->tensorboard<1.16.0,>=1.15.0->tensorflow==1.15) (4.8.2)\n",
            "Requirement already satisfied: typing-extensions>=3.6.4 in /usr/local/lib/python3.7/dist-packages (from importlib-metadata>=4.4->markdown>=2.6.8->tensorboard<1.16.0,>=1.15.0->tensorflow==1.15) (3.10.0.2)\n",
            "Requirement already satisfied: zipp>=0.5 in /usr/local/lib/python3.7/dist-packages (from importlib-metadata>=4.4->markdown>=2.6.8->tensorboard<1.16.0,>=1.15.0->tensorflow==1.15) (3.6.0)\n",
            "Requirement already satisfied: cached-property in /usr/local/lib/python3.7/dist-packages (from h5py->keras-applications>=1.0.8->tensorflow==1.15) (1.5.2)\n",
            "Building wheels for collected packages: gast\n",
            "  Building wheel for gast (setup.py) ... \u001b[?25l\u001b[?25hdone\n",
            "  Created wheel for gast: filename=gast-0.2.2-py3-none-any.whl size=7554 sha256=2b37019310b730aafa7d6029886f778fd2fa96b696659dc7b4e4306c03535359\n",
            "  Stored in directory: /root/.cache/pip/wheels/21/7f/02/420f32a803f7d0967b48dd823da3f558c5166991bfd204eef3\n",
            "Successfully built gast\n",
            "Installing collected packages: tensorflow-estimator, tensorboard, keras-applications, gast, tensorflow\n",
            "  Attempting uninstall: tensorflow-estimator\n",
            "    Found existing installation: tensorflow-estimator 2.7.0\n",
            "    Uninstalling tensorflow-estimator-2.7.0:\n",
            "      Successfully uninstalled tensorflow-estimator-2.7.0\n",
            "  Attempting uninstall: tensorboard\n",
            "    Found existing installation: tensorboard 2.7.0\n",
            "    Uninstalling tensorboard-2.7.0:\n",
            "      Successfully uninstalled tensorboard-2.7.0\n",
            "  Attempting uninstall: gast\n",
            "    Found existing installation: gast 0.4.0\n",
            "    Uninstalling gast-0.4.0:\n",
            "      Successfully uninstalled gast-0.4.0\n",
            "\u001b[31mERROR: pip's dependency resolver does not currently take into account all the packages that are installed. This behaviour is the source of the following dependency conflicts.\n",
            "tensorflow-probability 0.15.0 requires gast>=0.3.2, but you have gast 0.2.2 which is incompatible.\n",
            "kapre 0.3.6 requires tensorflow>=2.0.0, but you have tensorflow 1.15.0 which is incompatible.\u001b[0m\n",
            "Successfully installed gast-0.2.2 keras-applications-1.0.8 tensorboard-1.15.0 tensorflow-1.15.0 tensorflow-estimator-1.15.1\n"
          ]
        },
        {
          "output_type": "display_data",
          "data": {
            "application/vnd.colab-display-data+json": {
              "pip_warning": {
                "packages": [
                  "gast",
                  "tensorboard",
                  "tensorflow"
                ]
              }
            }
          },
          "metadata": {}
        }
      ]
    },
    {
      "cell_type": "code",
      "metadata": {
        "id": "mKYmWhswTbpF",
        "colab": {
          "base_uri": "https://localhost:8080/"
        },
        "outputId": "57198393-b0a4-4d5a-9709-07237d8aa914"
      },
      "source": [
        "import tensorflow as tf\n",
        "import matplotlib.pyplot as plt\n",
        "import numpy as np\n",
        "\n",
        "from tensorflow.examples.tutorials.mnist import input_data\n",
        "mnist = input_data.read_data_sets(\"./mnist/data\", one_hot=True)\n",
        "\n",
        "# 옵션 설정\n",
        "\n",
        "total_epoch = 100\n",
        "batch_size = 100\n",
        "learning_rate = 0.00004\n",
        "n_hidden1 = 256\n",
        "n_hidden2 = 128\n",
        "n_input = 28 * 28\n",
        "n_noise = 128\n",
        "\n",
        "# 신경망 모델 구성\n",
        "\n",
        "X = tf.placeholder(tf.float32, [None, n_input])\n",
        "Z = tf.placeholder(tf.float32, [None, n_noise])\n",
        "\n",
        "G_W1 = tf.Variable(tf.random_normal([n_noise, n_hidden1], stddev=0.01))\n",
        "G_b1 = tf.Variable(tf.zeros([n_hidden1]))\n",
        "G_W2 = tf.Variable(tf.random_normal([n_hidden1, n_hidden2], stddev=0.01))\n",
        "G_b2 = tf.Variable(tf.zeros([n_hidden2]))\n",
        "G_W3 = tf.Variable(tf.random_normal([n_hidden2, n_hidden1], stddev=0.01))\n",
        "G_b3 = tf.Variable(tf.zeros([n_hidden1]))\n",
        "G_W4 = tf.Variable(tf.random_normal([n_hidden1, n_input], stddev=0.01))\n",
        "G_b4 = tf.Variable(tf.zeros([n_input]))\n",
        "\n",
        "\n",
        "D_W1 = tf.Variable(tf.random_normal([n_input, n_hidden1], stddev=0.01))\n",
        "D_b1 = tf.Variable(tf.zeros([n_hidden1]))\n",
        "D_W2 = tf.Variable(tf.random_normal([n_hidden1, n_hidden2], stddev=0.01))\n",
        "D_b2 = tf.Variable(tf.zeros([n_hidden2]))\n",
        "D_W3 = tf.Variable(tf.random_normal([n_hidden2, 1], stddev=0.01))\n",
        "D_b3 = tf.Variable(tf.zeros([1]))\n",
        "\n",
        "def generator(noise_z):\n",
        "  hidden_1 = tf.nn.relu(tf.matmul(noise_z, G_W1) + G_b1)\n",
        "  hidden_2 = tf.nn.relu(tf.matmul(hidden_1, G_W2) + G_b2)\n",
        "  hidden_3 = tf.nn.relu(tf.matmul(hidden_2, G_W3) + G_b3)\n",
        "  output = tf.nn.sigmoid(tf.matmul(hidden_3, G_W4) + G_b4)\n",
        "\n",
        "  return output\n",
        "\n",
        "def discriminator(inputs):\n",
        "  hidden_1 = tf.nn.relu(tf.matmul(inputs, D_W1) + D_b1)\n",
        "  hidden_2 = tf.nn.relu(tf.matmul(hidden_1, D_W2) + D_b2)\n",
        "  output = tf.nn.sigmoid(tf.matmul(hidden_2, D_W3) + D_b3)\n",
        "\n",
        "  return output\n",
        "\n",
        "def get_noise(batch_size, n_noise):\n",
        "  return np.random.normal(size=(batch_size, n_noise))\n",
        "\n",
        "G = generator(Z)\n",
        "D_gene = discriminator(G)\n",
        "D_real = discriminator(X)\n",
        "\n",
        "loss_D = tf.reduce_mean(tf.log(D_real) + tf.log(1 - D_gene))\n",
        "loss_G = tf.reduce_mean(tf.log(D_gene))\n",
        "\n",
        "D_var_list = [D_W1, D_b1, D_W2, D_b2, D_W3, D_b3]\n",
        "G_var_list = [G_W1, G_b1, G_W2, G_b2, G_W3, G_b3, G_W4, G_b4]\n",
        "\n",
        "train_D = tf.train.RMSPropOptimizer(learning_rate).minimize(-loss_D, var_list=D_var_list)\n",
        "train_G = tf.train.RMSPropOptimizer(learning_rate).minimize(-loss_G, var_list=G_var_list)\n",
        "\n",
        "# 신경망 모델 학습\n",
        "\n",
        "sess = tf.Session()\n",
        "sess.run(tf.global_variables_initializer())\n",
        "\n",
        "total_batch = int(mnist.train.num_examples / batch_size)\n",
        "loss_val_D, loss_val_G = 0, 0\n",
        "\n",
        "for epoch in range(total_epoch):\n",
        "  for i in range(total_batch):\n",
        "    batch_xs, batch_ys = mnist.train.next_batch(batch_size)\n",
        "    noise = get_noise(batch_size, n_noise)\n",
        "    \n",
        "    _, loss_val_D = sess.run([train_D, loss_D], feed_dict={X: batch_xs, Z: noise})\n",
        "    _, loss_val_G = sess.run([train_G, loss_G], feed_dict={Z: noise})\n",
        "  \n",
        "  print('Epoch:', '%04d' % epoch, 'D loss: {:.4}'.format(loss_val_D), \n",
        "        'G loss: {:.4}'.format(loss_val_G))\n",
        "\n",
        "  # 확인용 이미지 생성\n",
        "\n",
        "  if epoch == 0 or (epoch + 1) % 10 == 0:\n",
        "    sample_size = 10\n",
        "    noise = get_noise(sample_size, n_noise)\n",
        "    samples = sess.run(G, feed_dict={Z: noise})\n",
        "\n",
        "    fig, ax = plt.subplots(1, sample_size, figsize=(sample_size, 1))\n",
        "\n",
        "    for i in range(sample_size):\n",
        "      ax[i].set_axis_off()\n",
        "      ax[i].imshow(np.reshape(samples[i], (28, 28)))\n",
        "\n",
        "    plt.savefig('./sample/{}.png'.format(str(epoch).zfill(3)), bbox_inches='tight')\n",
        "    # samples 폴더 생성\n",
        "\n",
        "    plt.close(fig)\n",
        "\n",
        "print('최적화 완료!')"
      ],
      "execution_count": 18,
      "outputs": [
        {
          "output_type": "stream",
          "name": "stdout",
          "text": [
            "Extracting ./mnist/data/train-images-idx3-ubyte.gz\n",
            "Extracting ./mnist/data/train-labels-idx1-ubyte.gz\n",
            "Extracting ./mnist/data/t10k-images-idx3-ubyte.gz\n",
            "Extracting ./mnist/data/t10k-labels-idx1-ubyte.gz\n",
            "Epoch: 0000 D loss: -0.01615 G loss: -5.891\n",
            "Epoch: 0001 D loss: -1.225 G loss: -1.227\n",
            "Epoch: 0002 D loss: -1.023 G loss: -1.272\n",
            "Epoch: 0003 D loss: -1.004 G loss: -0.8732\n",
            "Epoch: 0004 D loss: -1.436 G loss: -0.4144\n",
            "Epoch: 0005 D loss: -1.313 G loss: -0.5695\n",
            "Epoch: 0006 D loss: -1.3 G loss: -0.7979\n",
            "Epoch: 0007 D loss: -1.29 G loss: -0.6701\n",
            "Epoch: 0008 D loss: -1.18 G loss: -0.9295\n",
            "Epoch: 0009 D loss: -1.672 G loss: -0.5218\n",
            "Epoch: 0010 D loss: -1.043 G loss: -1.067\n",
            "Epoch: 0011 D loss: -1.051 G loss: -1.052\n",
            "Epoch: 0012 D loss: -0.9884 G loss: -1.105\n",
            "Epoch: 0013 D loss: -1.459 G loss: -0.8162\n",
            "Epoch: 0014 D loss: -1.308 G loss: -0.9127\n",
            "Epoch: 0015 D loss: -1.011 G loss: -1.069\n",
            "Epoch: 0016 D loss: -1.333 G loss: -0.6951\n",
            "Epoch: 0017 D loss: -1.03 G loss: -1.184\n",
            "Epoch: 0018 D loss: -1.069 G loss: -1.197\n",
            "Epoch: 0019 D loss: -0.9601 G loss: -1.087\n",
            "Epoch: 0020 D loss: -1.368 G loss: -0.9583\n",
            "Epoch: 0021 D loss: -1.124 G loss: -1.138\n",
            "Epoch: 0022 D loss: -1.359 G loss: -0.9819\n",
            "Epoch: 0023 D loss: -1.231 G loss: -1.067\n",
            "Epoch: 0024 D loss: -1.069 G loss: -1.023\n",
            "Epoch: 0025 D loss: -1.253 G loss: -1.03\n",
            "Epoch: 0026 D loss: -1.3 G loss: -1.073\n",
            "Epoch: 0027 D loss: -1.12 G loss: -1.04\n",
            "Epoch: 0028 D loss: -1.128 G loss: -1.022\n",
            "Epoch: 0029 D loss: -1.262 G loss: -1.068\n",
            "Epoch: 0030 D loss: -1.157 G loss: -0.8994\n",
            "Epoch: 0031 D loss: -0.9102 G loss: -1.131\n",
            "Epoch: 0032 D loss: -0.8527 G loss: -1.257\n",
            "Epoch: 0033 D loss: -1.261 G loss: -1.063\n",
            "Epoch: 0034 D loss: -1.091 G loss: -0.9935\n",
            "Epoch: 0035 D loss: -1.14 G loss: -0.999\n",
            "Epoch: 0036 D loss: -1.289 G loss: -0.9025\n",
            "Epoch: 0037 D loss: -1.423 G loss: -0.8035\n",
            "Epoch: 0038 D loss: -1.033 G loss: -1.142\n",
            "Epoch: 0039 D loss: -1.109 G loss: -0.9657\n",
            "Epoch: 0040 D loss: -1.125 G loss: -0.9763\n",
            "Epoch: 0041 D loss: -1.175 G loss: -0.9651\n",
            "Epoch: 0042 D loss: -1.196 G loss: -0.9406\n",
            "Epoch: 0043 D loss: -1.304 G loss: -0.9495\n",
            "Epoch: 0044 D loss: -1.131 G loss: -1.087\n",
            "Epoch: 0045 D loss: -1.134 G loss: -1.085\n",
            "Epoch: 0046 D loss: -1.212 G loss: -0.9112\n",
            "Epoch: 0047 D loss: -1.171 G loss: -0.9315\n",
            "Epoch: 0048 D loss: -0.9626 G loss: -1.153\n",
            "Epoch: 0049 D loss: -0.9643 G loss: -1.087\n",
            "Epoch: 0050 D loss: -1.192 G loss: -0.9892\n",
            "Epoch: 0051 D loss: -1.025 G loss: -1.024\n",
            "Epoch: 0052 D loss: -1.222 G loss: -0.8441\n",
            "Epoch: 0053 D loss: -1.052 G loss: -1.125\n",
            "Epoch: 0054 D loss: -1.123 G loss: -1.052\n",
            "Epoch: 0055 D loss: -1.235 G loss: -0.8437\n",
            "Epoch: 0056 D loss: -1.24 G loss: -0.9027\n",
            "Epoch: 0057 D loss: -1.112 G loss: -0.9925\n",
            "Epoch: 0058 D loss: -1.007 G loss: -0.9836\n",
            "Epoch: 0059 D loss: -1.175 G loss: -1.024\n",
            "Epoch: 0060 D loss: -1.108 G loss: -1.053\n",
            "Epoch: 0061 D loss: -0.9365 G loss: -1.256\n",
            "Epoch: 0062 D loss: -0.6543 G loss: -1.522\n",
            "Epoch: 0063 D loss: -1.048 G loss: -1.001\n",
            "Epoch: 0064 D loss: -0.9197 G loss: -1.132\n",
            "Epoch: 0065 D loss: -1.341 G loss: -0.8335\n",
            "Epoch: 0066 D loss: -1.267 G loss: -0.9753\n",
            "Epoch: 0067 D loss: -1.009 G loss: -1.066\n",
            "Epoch: 0068 D loss: -1.007 G loss: -1.174\n",
            "Epoch: 0069 D loss: -0.9303 G loss: -1.162\n",
            "Epoch: 0070 D loss: -0.9373 G loss: -1.256\n",
            "Epoch: 0071 D loss: -1.153 G loss: -1.001\n",
            "Epoch: 0072 D loss: -1.152 G loss: -1.122\n",
            "Epoch: 0073 D loss: -1.622 G loss: -0.8157\n",
            "Epoch: 0074 D loss: -1.338 G loss: -0.874\n",
            "Epoch: 0075 D loss: -1.002 G loss: -1.176\n",
            "Epoch: 0076 D loss: -0.765 G loss: -1.397\n",
            "Epoch: 0077 D loss: -1.374 G loss: -0.8915\n",
            "Epoch: 0078 D loss: -1.032 G loss: -1.188\n",
            "Epoch: 0079 D loss: -0.8864 G loss: -1.118\n",
            "Epoch: 0080 D loss: -1.716 G loss: -0.6307\n",
            "Epoch: 0081 D loss: -1.568 G loss: -0.7327\n",
            "Epoch: 0082 D loss: -1.604 G loss: -0.6958\n",
            "Epoch: 0083 D loss: -0.9527 G loss: -1.244\n",
            "Epoch: 0084 D loss: -1.827 G loss: -0.5276\n",
            "Epoch: 0085 D loss: -1.294 G loss: -0.9942\n",
            "Epoch: 0086 D loss: -1.545 G loss: -0.6437\n",
            "Epoch: 0087 D loss: -0.9169 G loss: -1.016\n",
            "Epoch: 0088 D loss: -1.67 G loss: -0.5236\n",
            "Epoch: 0089 D loss: -2.454 G loss: -0.2391\n",
            "Epoch: 0090 D loss: -2.27 G loss: -0.2256\n",
            "Epoch: 0091 D loss: -1.734 G loss: -0.3454\n",
            "Epoch: 0092 D loss: -1.76 G loss: -0.7616\n",
            "Epoch: 0093 D loss: -1.961 G loss: -0.3352\n",
            "Epoch: 0094 D loss: -1.713 G loss: -0.3846\n",
            "Epoch: 0095 D loss: -4.568 G loss: -0.08973\n",
            "Epoch: 0096 D loss: -1.176 G loss: -0.6484\n",
            "Epoch: 0097 D loss: -1.299 G loss: -0.6167\n",
            "Epoch: 0098 D loss: -1.685 G loss: -0.5649\n",
            "Epoch: 0099 D loss: -1.344 G loss: -0.6322\n",
            "최적화 완료!\n"
          ]
        }
      ]
    }
  ]
}