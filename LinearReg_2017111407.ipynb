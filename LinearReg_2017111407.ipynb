{
  "nbformat": 4,
  "nbformat_minor": 0,
  "metadata": {
    "colab": {
      "name": " LinearReg-2017111407.ipynb",
      "provenance": [],
      "authorship_tag": "ABX9TyP6fZvQeJfZ2T0pSw8zjaSr",
      "include_colab_link": true
    },
    "kernelspec": {
      "name": "python3",
      "display_name": "Python 3"
    },
    "language_info": {
      "name": "python"
    }
  },
  "cells": [
    {
      "cell_type": "markdown",
      "metadata": {
        "id": "view-in-github",
        "colab_type": "text"
      },
      "source": [
        "<a href=\"https://colab.research.google.com/github/9yubean2/-/blob/main/LinearReg_2017111407.ipynb\" target=\"_parent\"><img src=\"https://colab.research.google.com/assets/colab-badge.svg\" alt=\"Open In Colab\"/></a>"
      ]
    },
    {
      "cell_type": "code",
      "metadata": {
        "colab": {
          "base_uri": "https://localhost:8080/"
        },
        "id": "pD6A5yIwLtyv",
        "outputId": "df19b239-5d1d-4fcb-c7f4-80c9ac315819"
      },
      "source": [
        "import tensorflow as tf\n",
        "print(tf.__version__)"
      ],
      "execution_count": 1,
      "outputs": [
        {
          "output_type": "stream",
          "name": "stdout",
          "text": [
            "2.7.0\n"
          ]
        }
      ]
    },
    {
      "cell_type": "code",
      "metadata": {
        "colab": {
          "base_uri": "https://localhost:8080/"
        },
        "id": "FIqkIDBGL1pj",
        "outputId": "dc7ba79b-33f3-441b-c312-200884fb7195"
      },
      "source": [
        "!pip uninstall tensorflow"
      ],
      "execution_count": 2,
      "outputs": [
        {
          "output_type": "stream",
          "name": "stdout",
          "text": [
            "Found existing installation: tensorflow 2.7.0\n",
            "Uninstalling tensorflow-2.7.0:\n",
            "  Would remove:\n",
            "    /usr/local/bin/estimator_ckpt_converter\n",
            "    /usr/local/bin/import_pb_to_tensorboard\n",
            "    /usr/local/bin/saved_model_cli\n",
            "    /usr/local/bin/tensorboard\n",
            "    /usr/local/bin/tf_upgrade_v2\n",
            "    /usr/local/bin/tflite_convert\n",
            "    /usr/local/bin/toco\n",
            "    /usr/local/bin/toco_from_protos\n",
            "    /usr/local/lib/python3.7/dist-packages/tensorflow-2.7.0.dist-info/*\n",
            "    /usr/local/lib/python3.7/dist-packages/tensorflow/*\n",
            "Proceed (y/n)? y\n",
            "  Successfully uninstalled tensorflow-2.7.0\n"
          ]
        }
      ]
    },
    {
      "cell_type": "code",
      "metadata": {
        "colab": {
          "base_uri": "https://localhost:8080/",
          "height": 1000
        },
        "id": "nKY-fsgXOI6S",
        "outputId": "8dd388d7-c88a-415e-d463-e65282ee384e"
      },
      "source": [
        "!pip install tensorflow==1.15"
      ],
      "execution_count": 3,
      "outputs": [
        {
          "output_type": "stream",
          "name": "stdout",
          "text": [
            "Collecting tensorflow==1.15\n",
            "  Downloading tensorflow-1.15.0-cp37-cp37m-manylinux2010_x86_64.whl (412.3 MB)\n",
            "\u001b[K     |████████████████████████████████| 412.3 MB 15 kB/s \n",
            "\u001b[?25hCollecting gast==0.2.2\n",
            "  Downloading gast-0.2.2.tar.gz (10 kB)\n",
            "Requirement already satisfied: termcolor>=1.1.0 in /usr/local/lib/python3.7/dist-packages (from tensorflow==1.15) (1.1.0)\n",
            "Collecting keras-applications>=1.0.8\n",
            "  Downloading Keras_Applications-1.0.8-py3-none-any.whl (50 kB)\n",
            "\u001b[K     |████████████████████████████████| 50 kB 5.3 MB/s \n",
            "\u001b[?25hRequirement already satisfied: numpy<2.0,>=1.16.0 in /usr/local/lib/python3.7/dist-packages (from tensorflow==1.15) (1.19.5)\n",
            "Requirement already satisfied: wrapt>=1.11.1 in /usr/local/lib/python3.7/dist-packages (from tensorflow==1.15) (1.13.3)\n",
            "Collecting tensorboard<1.16.0,>=1.15.0\n",
            "  Downloading tensorboard-1.15.0-py3-none-any.whl (3.8 MB)\n",
            "\u001b[K     |████████████████████████████████| 3.8 MB 12.6 MB/s \n",
            "\u001b[?25hRequirement already satisfied: absl-py>=0.7.0 in /usr/local/lib/python3.7/dist-packages (from tensorflow==1.15) (0.12.0)\n",
            "Requirement already satisfied: protobuf>=3.6.1 in /usr/local/lib/python3.7/dist-packages (from tensorflow==1.15) (3.17.3)\n",
            "Collecting tensorflow-estimator==1.15.1\n",
            "  Downloading tensorflow_estimator-1.15.1-py2.py3-none-any.whl (503 kB)\n",
            "\u001b[K     |████████████████████████████████| 503 kB 43.4 MB/s \n",
            "\u001b[?25hRequirement already satisfied: keras-preprocessing>=1.0.5 in /usr/local/lib/python3.7/dist-packages (from tensorflow==1.15) (1.1.2)\n",
            "Requirement already satisfied: grpcio>=1.8.6 in /usr/local/lib/python3.7/dist-packages (from tensorflow==1.15) (1.42.0)\n",
            "Requirement already satisfied: astor>=0.6.0 in /usr/local/lib/python3.7/dist-packages (from tensorflow==1.15) (0.8.1)\n",
            "Requirement already satisfied: google-pasta>=0.1.6 in /usr/local/lib/python3.7/dist-packages (from tensorflow==1.15) (0.2.0)\n",
            "Requirement already satisfied: six>=1.10.0 in /usr/local/lib/python3.7/dist-packages (from tensorflow==1.15) (1.15.0)\n",
            "Requirement already satisfied: opt-einsum>=2.3.2 in /usr/local/lib/python3.7/dist-packages (from tensorflow==1.15) (3.3.0)\n",
            "Requirement already satisfied: wheel>=0.26 in /usr/local/lib/python3.7/dist-packages (from tensorflow==1.15) (0.37.0)\n",
            "Requirement already satisfied: h5py in /usr/local/lib/python3.7/dist-packages (from keras-applications>=1.0.8->tensorflow==1.15) (3.1.0)\n",
            "Requirement already satisfied: setuptools>=41.0.0 in /usr/local/lib/python3.7/dist-packages (from tensorboard<1.16.0,>=1.15.0->tensorflow==1.15) (57.4.0)\n",
            "Requirement already satisfied: markdown>=2.6.8 in /usr/local/lib/python3.7/dist-packages (from tensorboard<1.16.0,>=1.15.0->tensorflow==1.15) (3.3.6)\n",
            "Requirement already satisfied: werkzeug>=0.11.15 in /usr/local/lib/python3.7/dist-packages (from tensorboard<1.16.0,>=1.15.0->tensorflow==1.15) (1.0.1)\n",
            "Requirement already satisfied: importlib-metadata>=4.4 in /usr/local/lib/python3.7/dist-packages (from markdown>=2.6.8->tensorboard<1.16.0,>=1.15.0->tensorflow==1.15) (4.8.2)\n",
            "Requirement already satisfied: typing-extensions>=3.6.4 in /usr/local/lib/python3.7/dist-packages (from importlib-metadata>=4.4->markdown>=2.6.8->tensorboard<1.16.0,>=1.15.0->tensorflow==1.15) (3.10.0.2)\n",
            "Requirement already satisfied: zipp>=0.5 in /usr/local/lib/python3.7/dist-packages (from importlib-metadata>=4.4->markdown>=2.6.8->tensorboard<1.16.0,>=1.15.0->tensorflow==1.15) (3.6.0)\n",
            "Requirement already satisfied: cached-property in /usr/local/lib/python3.7/dist-packages (from h5py->keras-applications>=1.0.8->tensorflow==1.15) (1.5.2)\n",
            "Building wheels for collected packages: gast\n",
            "  Building wheel for gast (setup.py) ... \u001b[?25l\u001b[?25hdone\n",
            "  Created wheel for gast: filename=gast-0.2.2-py3-none-any.whl size=7554 sha256=0eb4657ddce5bd4085e1563aa0d96151f9dad9942f9e93f138dde061ecf97879\n",
            "  Stored in directory: /root/.cache/pip/wheels/21/7f/02/420f32a803f7d0967b48dd823da3f558c5166991bfd204eef3\n",
            "Successfully built gast\n",
            "Installing collected packages: tensorflow-estimator, tensorboard, keras-applications, gast, tensorflow\n",
            "  Attempting uninstall: tensorflow-estimator\n",
            "    Found existing installation: tensorflow-estimator 2.7.0\n",
            "    Uninstalling tensorflow-estimator-2.7.0:\n",
            "      Successfully uninstalled tensorflow-estimator-2.7.0\n",
            "  Attempting uninstall: tensorboard\n",
            "    Found existing installation: tensorboard 2.7.0\n",
            "    Uninstalling tensorboard-2.7.0:\n",
            "      Successfully uninstalled tensorboard-2.7.0\n",
            "  Attempting uninstall: gast\n",
            "    Found existing installation: gast 0.4.0\n",
            "    Uninstalling gast-0.4.0:\n",
            "      Successfully uninstalled gast-0.4.0\n",
            "\u001b[31mERROR: pip's dependency resolver does not currently take into account all the packages that are installed. This behaviour is the source of the following dependency conflicts.\n",
            "tensorflow-probability 0.15.0 requires gast>=0.3.2, but you have gast 0.2.2 which is incompatible.\n",
            "kapre 0.3.6 requires tensorflow>=2.0.0, but you have tensorflow 1.15.0 which is incompatible.\u001b[0m\n",
            "Successfully installed gast-0.2.2 keras-applications-1.0.8 tensorboard-1.15.0 tensorflow-1.15.0 tensorflow-estimator-1.15.1\n"
          ]
        },
        {
          "output_type": "display_data",
          "data": {
            "application/vnd.colab-display-data+json": {
              "pip_warning": {
                "packages": [
                  "gast",
                  "tensorboard",
                  "tensorflow"
                ]
              }
            }
          },
          "metadata": {}
        }
      ]
    },
    {
      "cell_type": "code",
      "metadata": {
        "colab": {
          "base_uri": "https://localhost:8080/"
        },
        "id": "O6esdBdmONDK",
        "outputId": "1269d45c-4ed0-40e4-d3c9-e7da8eb46dd3"
      },
      "source": [
        "import tensorflow as tf\n",
        "print(tf.__version__)"
      ],
      "execution_count": 1,
      "outputs": [
        {
          "output_type": "stream",
          "name": "stdout",
          "text": [
            "1.15.0\n"
          ]
        }
      ]
    },
    {
      "cell_type": "code",
      "metadata": {
        "colab": {
          "base_uri": "https://localhost:8080/"
        },
        "id": "bgsJ6tROOgHc",
        "outputId": "8848f384-bbdb-453f-81ae-e0d7951e89b1"
      },
      "source": [
        "import tensorflow as tf\n",
        "\n",
        "#키 데이터\n",
        "x_data = [198, 170, 170, 165, 142, 155, 165, 140, 165, 174, 159, 168, 177, 180, 182, 163, 173, 172, 175, 185, 162, 164, 163, 176, 171]\n",
        "#몸무게 데이터\n",
        "y_data = [90, 65, 58, 48, 38, 45, 57, 38, 60, 70, 52, 57, 75, 80, 80, 62, 78, 75, 77, 90, 65, 64, 57, 70, 85]\n",
        "\n",
        "#W, b 초기화\n",
        "W = tf.Variable(tf.random_uniform([1], -1.0, 1.0))\n",
        "b = tf.Variable(tf.random_uniform([1], -1.0, 1.0))\n",
        "\n",
        "#플레이스홀더 설정\n",
        "X = tf.placeholder(tf.float32, name=\"X\")\n",
        "Y = tf.placeholder(tf.float32, name=\"Y\")\n",
        "\n",
        "#x와 y의 상관관계(선형관계)를 분석하기 위한 수식\n",
        "hypothesis = W * X + b\n",
        "\n",
        "#loss function\n",
        "cost = tf.reduce_mean(tf.square(hypothesis - Y))\n",
        "\n",
        "#최적화 함수 Gradient Descent Optimization\n",
        "optimizer = tf.train.GradientDescentOptimizer(learning_rate=0.00001)\n",
        "train_op = optimizer.minimize(cost)\n",
        "\n",
        "#그래프 실행: 세션 생성 및 변수 초기화\n",
        "with tf.Session() as sess:\n",
        "  sess.run(tf.global_variables_initializer())\n",
        "\n",
        "#최적화 수행 그래프 train_op 실행\n",
        "  for step in range(100):\n",
        "    _, cost_val = sess.run([train_op, cost], feed_dict = {X: x_data, Y: y_data})\n",
        "\n",
        "    print(step, cost_val, sess.run(W), sess.run(b))\n",
        "\n",
        "#X값 넣고 결과 확인\n",
        "  print(\"\\n===Test===\")\n",
        "  print(\"X: 170, Y: \", sess.run(hypothesis, feed_dict={X: 170}))\n",
        "  print(\"X: 153, Y: \", sess.run(hypothesis, feed_dict={X: 153}))"
      ],
      "execution_count": 32,
      "outputs": [
        {
          "output_type": "stream",
          "name": "stdout",
          "text": [
            "0 4864.373 [0.21360144] [0.5415614]\n",
            "1 984.2246 [0.31353503] [0.5421393]\n",
            "2 270.74332 [0.3563878] [0.5423803]\n",
            "3 139.54858 [0.3747636] [0.5424768]\n",
            "4 115.42445 [0.38264343] [0.54251134]\n",
            "5 110.98856 [0.38602245] [0.54251933]\n",
            "6 110.172874 [0.38747144] [0.54251593]\n",
            "7 110.02284 [0.38809282] [0.54250765]\n",
            "8 109.99526 [0.3883593] [0.5424973]\n",
            "9 109.99019 [0.38847363] [0.542486]\n",
            "10 109.98923 [0.38852268] [0.5424743]\n",
            "11 109.98905 [0.38854378] [0.54246247]\n",
            "12 109.98899 [0.38855284] [0.54245055]\n",
            "13 109.98899 [0.38855678] [0.5424386]\n",
            "14 109.98897 [0.3885585] [0.54242665]\n",
            "15 109.98895 [0.38855928] [0.54241467]\n",
            "16 109.98897 [0.38855967] [0.5424027]\n",
            "17 109.98892 [0.38855988] [0.5423907]\n",
            "18 109.98892 [0.38856] [0.5423787]\n",
            "19 109.98888 [0.3885601] [0.54236674]\n",
            "20 109.988884 [0.38856018] [0.54235476]\n",
            "21 109.98886 [0.38856024] [0.5423428]\n",
            "22 109.98886 [0.38856032] [0.5423308]\n",
            "23 109.98887 [0.3885604] [0.5423188]\n",
            "24 109.988815 [0.38856047] [0.54230684]\n",
            "25 109.988815 [0.38856053] [0.54229486]\n",
            "26 109.98879 [0.3885606] [0.5422829]\n",
            "27 109.98878 [0.38856068] [0.5422709]\n",
            "28 109.98875 [0.38856074] [0.5422589]\n",
            "29 109.98876 [0.3885608] [0.54224694]\n",
            "30 109.98878 [0.3885609] [0.54223496]\n",
            "31 109.98873 [0.38856095] [0.542223]\n",
            "32 109.98872 [0.38856104] [0.542211]\n",
            "33 109.98868 [0.3885611] [0.542199]\n",
            "34 109.98869 [0.3885612] [0.54218704]\n",
            "35 109.98866 [0.38856125] [0.54217505]\n",
            "36 109.98867 [0.3885613] [0.5421631]\n",
            "37 109.988655 [0.3885614] [0.5421511]\n",
            "38 109.988625 [0.38856146] [0.5421391]\n",
            "39 109.98864 [0.38856152] [0.54212713]\n",
            "40 109.98856 [0.38856158] [0.54211515]\n",
            "41 109.988594 [0.38856167] [0.5421032]\n",
            "42 109.988556 [0.38856173] [0.5420912]\n",
            "43 109.98857 [0.38856182] [0.5420792]\n",
            "44 109.98857 [0.38856187] [0.5420672]\n",
            "45 109.98852 [0.38856193] [0.54205525]\n",
            "46 109.98853 [0.38856202] [0.54204327]\n",
            "47 109.98849 [0.38856208] [0.5420313]\n",
            "48 109.988495 [0.38856217] [0.5420193]\n",
            "49 109.98845 [0.38856223] [0.5420073]\n",
            "50 109.988464 [0.3885623] [0.54199535]\n",
            "51 109.98846 [0.38856238] [0.54198337]\n",
            "52 109.98843 [0.38856244] [0.5419714]\n",
            "53 109.988434 [0.38856253] [0.5419594]\n",
            "54 109.98839 [0.3885626] [0.5419474]\n",
            "55 109.98839 [0.38856265] [0.54193544]\n",
            "56 109.98837 [0.3885627] [0.54192346]\n",
            "57 109.98836 [0.3885628] [0.5419115]\n",
            "58 109.98837 [0.3885629] [0.5418995]\n",
            "59 109.98833 [0.38856295] [0.5418875]\n",
            "60 109.98832 [0.388563] [0.54187554]\n",
            "61 109.98829 [0.38856307] [0.54186356]\n",
            "62 109.988304 [0.38856316] [0.5418516]\n",
            "63 109.98826 [0.38856322] [0.5418396]\n",
            "64 109.98825 [0.3885633] [0.5418276]\n",
            "65 109.98827 [0.38856336] [0.54181564]\n",
            "66 109.988235 [0.38856342] [0.54180366]\n",
            "67 109.98825 [0.3885635] [0.5417917]\n",
            "68 109.98818 [0.38856357] [0.5417797]\n",
            "69 109.98819 [0.38856366] [0.5417677]\n",
            "70 109.988144 [0.38856372] [0.54175574]\n",
            "71 109.98817 [0.38856378] [0.54174376]\n",
            "72 109.98815 [0.38856387] [0.5417318]\n",
            "73 109.98814 [0.38856393] [0.5417198]\n",
            "74 109.98814 [0.388564] [0.5417078]\n",
            "75 109.98808 [0.38856405] [0.54169583]\n",
            "76 109.9881 [0.38856414] [0.54168385]\n",
            "77 109.98806 [0.3885642] [0.5416719]\n",
            "78 109.988045 [0.3885643] [0.5416599]\n",
            "79 109.98806 [0.38856438] [0.5416479]\n",
            "80 109.98803 [0.38856444] [0.54163593]\n",
            "81 109.988014 [0.3885645] [0.54162395]\n",
            "82 109.988 [0.38856456] [0.54161197]\n",
            "83 109.987976 [0.38856465] [0.5416]\n",
            "84 109.987946 [0.3885647] [0.541588]\n",
            "85 109.987946 [0.38856477] [0.541576]\n",
            "86 109.987976 [0.38856485] [0.54156405]\n",
            "87 109.98792 [0.3885649] [0.54155207]\n",
            "88 109.98794 [0.388565] [0.5415401]\n",
            "89 109.98787 [0.38856506] [0.5415281]\n",
            "90 109.987885 [0.38856512] [0.5415161]\n",
            "91 109.98786 [0.3885652] [0.54150414]\n",
            "92 109.987854 [0.38856527] [0.54149216]\n",
            "93 109.98786 [0.38856536] [0.5414802]\n",
            "94 109.987816 [0.38856542] [0.5414682]\n",
            "95 109.98784 [0.38856548] [0.5414562]\n",
            "96 109.987785 [0.38856554] [0.54144424]\n",
            "97 109.98777 [0.38856563] [0.54143226]\n",
            "98 109.98773 [0.3885657] [0.5414203]\n",
            "99 109.98776 [0.38856578] [0.5414083]\n",
            "\n",
            "===Test===\n",
            "X: 170, Y:  [66.59759]\n",
            "X: 153, Y:  [59.991974]\n"
          ]
        }
      ]
    },
    {
      "cell_type": "code",
      "metadata": {
        "id": "wrCmFK4WX7Ta"
      },
      "source": [
        ""
      ],
      "execution_count": null,
      "outputs": []
    }
  ]
}