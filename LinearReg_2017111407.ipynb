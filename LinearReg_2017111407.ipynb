{
  "nbformat": 4,
  "nbformat_minor": 0,
  "metadata": {
    "colab": {
      "name": " LinearReg-2017111407.ipynb",
      "provenance": [],
      "authorship_tag": "ABX9TyP6fZvQeJfZ2T0pSw8zjaSr",
      "include_colab_link": true
    },
    "kernelspec": {
      "name": "python3",
      "display_name": "Python 3"
    },
    "language_info": {
      "name": "python"
    }
  },
  "cells": [
    {
      "cell_type": "markdown",
      "metadata": {
        "id": "view-in-github",
        "colab_type": "text"
      },
      "source": [
        "<a href=\"https://colab.research.google.com/github/9yubean2/ArtificialIntelligence/blob/main/LinearReg_2017111407.ipynb\" target=\"_parent\"><img src=\"https://colab.research.google.com/assets/colab-badge.svg\" alt=\"Open In Colab\"/></a>"
      ]
    },
    {
      "cell_type": "code",
      "metadata": {
        "colab": {
          "base_uri": "https://localhost:8080/"
        },
        "id": "pD6A5yIwLtyv",
        "outputId": "df19b239-5d1d-4fcb-c7f4-80c9ac315819"
      },
      "source": [
        "import tensorflow as tf\n",
        "print(tf.__version__)"
      ],
      "execution_count": 1,
      "outputs": [
        {
          "output_type": "stream",
          "name": "stdout",
          "text": [
            "2.7.0\n"
          ]
        }
      ]
    },
    {
      "cell_type": "code",
      "metadata": {
        "colab": {
          "base_uri": "https://localhost:8080/"
        },
        "id": "FIqkIDBGL1pj",
        "outputId": "dc7ba79b-33f3-441b-c312-200884fb7195"
      },
      "source": [
        "!pip uninstall tensorflow"
      ],
      "execution_count": 2,
      "outputs": [
        {
          "output_type": "stream",
          "name": "stdout",
          "text": [
            "Found existing installation: tensorflow 2.7.0\n",
            "Uninstalling tensorflow-2.7.0:\n",
            "  Would remove:\n",
            "    /usr/local/bin/estimator_ckpt_converter\n",
            "    /usr/local/bin/import_pb_to_tensorboard\n",
            "    /usr/local/bin/saved_model_cli\n",
            "    /usr/local/bin/tensorboard\n",
            "    /usr/local/bin/tf_upgrade_v2\n",
            "    /usr/local/bin/tflite_convert\n",
            "    /usr/local/bin/toco\n",
            "    /usr/local/bin/toco_from_protos\n",
            "    /usr/local/lib/python3.7/dist-packages/tensorflow-2.7.0.dist-info/*\n",
            "    /usr/local/lib/python3.7/dist-packages/tensorflow/*\n",
            "Proceed (y/n)? y\n",
            "  Successfully uninstalled tensorflow-2.7.0\n"
          ]
        }
      ]
    },
    {
      "cell_type": "code",
      "metadata": {
        "colab": {
          "base_uri": "https://localhost:8080/",
          "height": 1000
        },
        "id": "nKY-fsgXOI6S",
        "outputId": "8dd388d7-c88a-415e-d463-e65282ee384e"
      },
      "source": [
        "!pip install tensorflow==1.15"
      ],
      "execution_count": 3,
      "outputs": [
        {
          "output_type": "stream",
          "name": "stdout",
          "text": [
            "Collecting tensorflow==1.15\n",
            "  Downloading tensorflow-1.15.0-cp37-cp37m-manylinux2010_x86_64.whl (412.3 MB)\n",
            "\u001b[K     |████████████████████████████████| 412.3 MB 15 kB/s \n",
            "\u001b[?25hCollecting gast==0.2.2\n",
            "  Downloading gast-0.2.2.tar.gz (10 kB)\n",
            "Requirement already satisfied: termcolor>=1.1.0 in /usr/local/lib/python3.7/dist-packages (from tensorflow==1.15) (1.1.0)\n",
            "Collecting keras-applications>=1.0.8\n",
            "  Downloading Keras_Applications-1.0.8-py3-none-any.whl (50 kB)\n",
            "\u001b[K     |████████████████████████████████| 50 kB 5.3 MB/s \n",
            "\u001b[?25hRequirement already satisfied: numpy<2.0,>=1.16.0 in /usr/local/lib/python3.7/dist-packages (from tensorflow==1.15) (1.19.5)\n",
            "Requirement already satisfied: wrapt>=1.11.1 in /usr/local/lib/python3.7/dist-packages (from tensorflow==1.15) (1.13.3)\n",
            "Collecting tensorboard<1.16.0,>=1.15.0\n",
            "  Downloading tensorboard-1.15.0-py3-none-any.whl (3.8 MB)\n",
            "\u001b[K     |████████████████████████████████| 3.8 MB 12.6 MB/s \n",
            "\u001b[?25hRequirement already satisfied: absl-py>=0.7.0 in /usr/local/lib/python3.7/dist-packages (from tensorflow==1.15) (0.12.0)\n",
            "Requirement already satisfied: protobuf>=3.6.1 in /usr/local/lib/python3.7/dist-packages (from tensorflow==1.15) (3.17.3)\n",
            "Collecting tensorflow-estimator==1.15.1\n",
            "  Downloading tensorflow_estimator-1.15.1-py2.py3-none-any.whl (503 kB)\n",
            "\u001b[K     |████████████████████████████████| 503 kB 43.4 MB/s \n",
            "\u001b[?25hRequirement already satisfied: keras-preprocessing>=1.0.5 in /usr/local/lib/python3.7/dist-packages (from tensorflow==1.15) (1.1.2)\n",
            "Requirement already satisfied: grpcio>=1.8.6 in /usr/local/lib/python3.7/dist-packages (from tensorflow==1.15) (1.42.0)\n",
            "Requirement already satisfied: astor>=0.6.0 in /usr/local/lib/python3.7/dist-packages (from tensorflow==1.15) (0.8.1)\n",
            "Requirement already satisfied: google-pasta>=0.1.6 in /usr/local/lib/python3.7/dist-packages (from tensorflow==1.15) (0.2.0)\n",
            "Requirement already satisfied: six>=1.10.0 in /usr/local/lib/python3.7/dist-packages (from tensorflow==1.15) (1.15.0)\n",
            "Requirement already satisfied: opt-einsum>=2.3.2 in /usr/local/lib/python3.7/dist-packages (from tensorflow==1.15) (3.3.0)\n",
            "Requirement already satisfied: wheel>=0.26 in /usr/local/lib/python3.7/dist-packages (from tensorflow==1.15) (0.37.0)\n",
            "Requirement already satisfied: h5py in /usr/local/lib/python3.7/dist-packages (from keras-applications>=1.0.8->tensorflow==1.15) (3.1.0)\n",
            "Requirement already satisfied: setuptools>=41.0.0 in /usr/local/lib/python3.7/dist-packages (from tensorboard<1.16.0,>=1.15.0->tensorflow==1.15) (57.4.0)\n",
            "Requirement already satisfied: markdown>=2.6.8 in /usr/local/lib/python3.7/dist-packages (from tensorboard<1.16.0,>=1.15.0->tensorflow==1.15) (3.3.6)\n",
            "Requirement already satisfied: werkzeug>=0.11.15 in /usr/local/lib/python3.7/dist-packages (from tensorboard<1.16.0,>=1.15.0->tensorflow==1.15) (1.0.1)\n",
            "Requirement already satisfied: importlib-metadata>=4.4 in /usr/local/lib/python3.7/dist-packages (from markdown>=2.6.8->tensorboard<1.16.0,>=1.15.0->tensorflow==1.15) (4.8.2)\n",
            "Requirement already satisfied: typing-extensions>=3.6.4 in /usr/local/lib/python3.7/dist-packages (from importlib-metadata>=4.4->markdown>=2.6.8->tensorboard<1.16.0,>=1.15.0->tensorflow==1.15) (3.10.0.2)\n",
            "Requirement already satisfied: zipp>=0.5 in /usr/local/lib/python3.7/dist-packages (from importlib-metadata>=4.4->markdown>=2.6.8->tensorboard<1.16.0,>=1.15.0->tensorflow==1.15) (3.6.0)\n",
            "Requirement already satisfied: cached-property in /usr/local/lib/python3.7/dist-packages (from h5py->keras-applications>=1.0.8->tensorflow==1.15) (1.5.2)\n",
            "Building wheels for collected packages: gast\n",
            "  Building wheel for gast (setup.py) ... \u001b[?25l\u001b[?25hdone\n",
            "  Created wheel for gast: filename=gast-0.2.2-py3-none-any.whl size=7554 sha256=0eb4657ddce5bd4085e1563aa0d96151f9dad9942f9e93f138dde061ecf97879\n",
            "  Stored in directory: /root/.cache/pip/wheels/21/7f/02/420f32a803f7d0967b48dd823da3f558c5166991bfd204eef3\n",
            "Successfully built gast\n",
            "Installing collected packages: tensorflow-estimator, tensorboard, keras-applications, gast, tensorflow\n",
            "  Attempting uninstall: tensorflow-estimator\n",
            "    Found existing installation: tensorflow-estimator 2.7.0\n",
            "    Uninstalling tensorflow-estimator-2.7.0:\n",
            "      Successfully uninstalled tensorflow-estimator-2.7.0\n",
            "  Attempting uninstall: tensorboard\n",
            "    Found existing installation: tensorboard 2.7.0\n",
            "    Uninstalling tensorboard-2.7.0:\n",
            "      Successfully uninstalled tensorboard-2.7.0\n",
            "  Attempting uninstall: gast\n",
            "    Found existing installation: gast 0.4.0\n",
            "    Uninstalling gast-0.4.0:\n",
            "      Successfully uninstalled gast-0.4.0\n",
            "\u001b[31mERROR: pip's dependency resolver does not currently take into account all the packages that are installed. This behaviour is the source of the following dependency conflicts.\n",
            "tensorflow-probability 0.15.0 requires gast>=0.3.2, but you have gast 0.2.2 which is incompatible.\n",
            "kapre 0.3.6 requires tensorflow>=2.0.0, but you have tensorflow 1.15.0 which is incompatible.\u001b[0m\n",
            "Successfully installed gast-0.2.2 keras-applications-1.0.8 tensorboard-1.15.0 tensorflow-1.15.0 tensorflow-estimator-1.15.1\n"
          ]
        },
        {
          "output_type": "display_data",
          "data": {
            "application/vnd.colab-display-data+json": {
              "pip_warning": {
                "packages": [
                  "gast",
                  "tensorboard",
                  "tensorflow"
                ]
              }
            }
          },
          "metadata": {}
        }
      ]
    },
    {
      "cell_type": "code",
      "metadata": {
        "colab": {
          "base_uri": "https://localhost:8080/"
        },
        "id": "O6esdBdmONDK",
        "outputId": "1269d45c-4ed0-40e4-d3c9-e7da8eb46dd3"
      },
      "source": [
        "import tensorflow as tf\n",
        "print(tf.__version__)"
      ],
      "execution_count": 1,
      "outputs": [
        {
          "output_type": "stream",
          "name": "stdout",
          "text": [
            "1.15.0\n"
          ]
        }
      ]
    },
    {
      "cell_type": "code",
      "metadata": {
        "colab": {
          "base_uri": "https://localhost:8080/"
        },
        "id": "bgsJ6tROOgHc",
        "outputId": "254e6961-1771-41c5-f4fa-bbf7b8c048e1"
      },
      "source": [
        "import tensorflow as tf\n",
        "\n",
        "#키 데이터\n",
        "x_data = [198, 170, 170, 165, 142, 155, 165, 140, 165, 174, 159, 168, 177, 180, 182, 163, 173, 172, 175, 185, 162, 164, 163, 176, 171]\n",
        "#몸무게 데이터\n",
        "y_data = [90, 65, 58, 48, 38, 45, 57, 38, 60, 70, 52, 57, 75, 80, 80, 62, 78, 75, 77, 90, 65, 64, 57, 70, 85]\n",
        "\n",
        "#W, b 초기화\n",
        "W = tf.Variable(tf.random_uniform([1], -1.0, 1.0))\n",
        "b = tf.Variable(tf.random_uniform([1], -1.0, 1.0))\n",
        "\n",
        "#플레이스홀더 설정\n",
        "X = tf.placeholder(tf.float32, name=\"X\")\n",
        "Y = tf.placeholder(tf.float32, name=\"Y\")\n",
        "\n",
        "#x와 y의 상관관계(선형관계)를 분석하기 위한 수식\n",
        "hypothesis = W * X + b\n",
        "\n",
        "#loss function\n",
        "cost = tf.reduce_mean(tf.square(hypothesis - Y))\n",
        "\n",
        "#최적화 함수 Gradient Descent Optimization\n",
        "optimizer = tf.train.GradientDescentOptimizer(learning_rate=0.00001)\n",
        "train_op = optimizer.minimize(cost)\n",
        "\n",
        "#그래프 실행: 세션 생성 및 변수 초기화\n",
        "with tf.Session() as sess:\n",
        "  sess.run(tf.global_variables_initializer())\n",
        "\n",
        "#최적화 수행 그래프 train_op 실행\n",
        "  for step in range(100):\n",
        "    _, cost_val = sess.run([train_op, cost], feed_dict = {X: x_data, Y: y_data})\n",
        "\n",
        "    print(step, cost_val, sess.run(W), sess.run(b))\n",
        "\n",
        "#X값 넣고 결과 확인\n",
        "  print(\"\\n===Test===\")\n",
        "  print(\"X: 170, Y: \", sess.run(hypothesis, feed_dict={X: 170}))\n",
        "  print(\"X: 153, Y: \", sess.run(hypothesis, feed_dict={X: 153}))"
      ],
      "execution_count": 40,
      "outputs": [
        {
          "output_type": "stream",
          "name": "stdout",
          "text": [
            "0 35977.047 [-0.08740085] [-0.237954]\n",
            "1 6704.462 [0.18708348] [-0.2363458]\n",
            "2 1321.8232 [0.30478573] [-0.23566297]\n",
            "3 332.06442 [0.35525793] [-0.23537695]\n",
            "4 150.0676 [0.37690106] [-0.2352611]\n",
            "5 116.60204 [0.38618195] [-0.2352182]\n",
            "6 110.448395 [0.39016175] [-0.23520659]\n",
            "7 109.31683 [0.39186838] [-0.23520839]\n",
            "8 109.10875 [0.39260024] [-0.23521596]\n",
            "9 109.07048 [0.3929141] [-0.23522599]\n",
            "10 109.06345 [0.39304873] [-0.23523708]\n",
            "11 109.06214 [0.39310652] [-0.23524863]\n",
            "12 109.0619 [0.39313135] [-0.23526037]\n",
            "13 109.061806 [0.393142] [-0.23527218]\n",
            "14 109.061806 [0.39314663] [-0.23528405]\n",
            "15 109.06179 [0.39314863] [-0.23529592]\n",
            "16 109.06179 [0.39314955] [-0.2353078]\n",
            "17 109.06173 [0.39314997] [-0.23531967]\n",
            "18 109.06172 [0.3931502] [-0.23533155]\n",
            "19 109.06171 [0.39315033] [-0.23534343]\n",
            "20 109.06171 [0.39315042] [-0.2353553]\n",
            "21 109.06169 [0.3931505] [-0.23536718]\n",
            "22 109.0617 [0.3931506] [-0.23537906]\n",
            "23 109.0617 [0.3931507] [-0.23539093]\n",
            "24 109.06167 [0.39315075] [-0.23540281]\n",
            "25 109.06166 [0.3931508] [-0.23541468]\n",
            "26 109.0616 [0.39315087] [-0.23542656]\n",
            "27 109.06162 [0.39315096] [-0.23543844]\n",
            "28 109.06159 [0.39315102] [-0.23545031]\n",
            "29 109.06159 [0.39315107] [-0.23546219]\n",
            "30 109.061554 [0.39315116] [-0.23547406]\n",
            "31 109.061554 [0.39315122] [-0.23548594]\n",
            "32 109.061554 [0.3931513] [-0.23549782]\n",
            "33 109.06153 [0.39315137] [-0.2355097]\n",
            "34 109.06153 [0.39315143] [-0.23552157]\n",
            "35 109.06148 [0.3931515] [-0.23553345]\n",
            "36 109.061485 [0.39315158] [-0.23554532]\n",
            "37 109.06146 [0.39315164] [-0.2355572]\n",
            "38 109.06145 [0.39315173] [-0.23556907]\n",
            "39 109.06146 [0.39315182] [-0.23558095]\n",
            "40 109.06143 [0.39315188] [-0.23559283]\n",
            "41 109.06143 [0.39315194] [-0.2356047]\n",
            "42 109.06141 [0.393152] [-0.23561658]\n",
            "43 109.06142 [0.39315206] [-0.23562846]\n",
            "44 109.06135 [0.39315212] [-0.23564033]\n",
            "45 109.06138 [0.3931522] [-0.23565221]\n",
            "46 109.061325 [0.39315227] [-0.23566408]\n",
            "47 109.06134 [0.39315236] [-0.23567596]\n",
            "48 109.061325 [0.39315245] [-0.23568784]\n",
            "49 109.06132 [0.3931525] [-0.23569971]\n",
            "50 109.06131 [0.39315256] [-0.23571159]\n",
            "51 109.06128 [0.39315262] [-0.23572347]\n",
            "52 109.06129 [0.3931527] [-0.23573534]\n",
            "53 109.06124 [0.39315277] [-0.23574722]\n",
            "54 109.06124 [0.39315283] [-0.2357591]\n",
            "55 109.0612 [0.3931529] [-0.23577097]\n",
            "56 109.06119 [0.39315298] [-0.23578285]\n",
            "57 109.06121 [0.39315307] [-0.23579472]\n",
            "58 109.06118 [0.39315313] [-0.2358066]\n",
            "59 109.06119 [0.3931532] [-0.23581848]\n",
            "60 109.061165 [0.39315325] [-0.23583035]\n",
            "61 109.06113 [0.39315334] [-0.23584223]\n",
            "62 109.061104 [0.3931534] [-0.2358541]\n",
            "63 109.06111 [0.3931535] [-0.23586598]\n",
            "64 109.06106 [0.39315355] [-0.23587786]\n",
            "65 109.06108 [0.3931536] [-0.23588973]\n",
            "66 109.0611 [0.3931537] [-0.23590161]\n",
            "67 109.061066 [0.39315376] [-0.23591349]\n",
            "68 109.06104 [0.39315382] [-0.23592536]\n",
            "69 109.06103 [0.39315388] [-0.23593724]\n",
            "70 109.06101 [0.39315397] [-0.23594911]\n",
            "71 109.061 [0.39315403] [-0.23596099]\n",
            "72 109.060974 [0.3931541] [-0.23597287]\n",
            "73 109.06096 [0.39315417] [-0.23598474]\n",
            "74 109.06094 [0.39315423] [-0.23599662]\n",
            "75 109.06093 [0.39315432] [-0.2360085]\n",
            "76 109.0609 [0.39315438] [-0.23602037]\n",
            "77 109.060936 [0.39315444] [-0.23603225]\n",
            "78 109.060905 [0.3931545] [-0.23604412]\n",
            "79 109.06087 [0.3931546] [-0.236056]\n",
            "80 109.06084 [0.39315465] [-0.23606788]\n",
            "81 109.06085 [0.39315474] [-0.23607975]\n",
            "82 109.06082 [0.3931548] [-0.23609163]\n",
            "83 109.06084 [0.39315486] [-0.2361035]\n",
            "84 109.06083 [0.39315495] [-0.23611538]\n",
            "85 109.0608 [0.393155] [-0.23612726]\n",
            "86 109.060814 [0.3931551] [-0.23613913]\n",
            "87 109.06076 [0.39315516] [-0.23615101]\n",
            "88 109.06075 [0.39315522] [-0.23616289]\n",
            "89 109.06072 [0.39315528] [-0.23617476]\n",
            "90 109.06073 [0.39315537] [-0.23618664]\n",
            "91 109.060684 [0.39315543] [-0.23619851]\n",
            "92 109.06069 [0.3931555] [-0.23621039]\n",
            "93 109.06069 [0.39315557] [-0.23622227]\n",
            "94 109.06066 [0.39315563] [-0.23623414]\n",
            "95 109.06066 [0.39315572] [-0.23624602]\n",
            "96 109.060646 [0.39315578] [-0.2362579]\n",
            "97 109.06062 [0.39315584] [-0.23626977]\n",
            "98 109.060585 [0.3931559] [-0.23628165]\n",
            "99 109.06061 [0.393156] [-0.23629352]\n",
            "\n",
            "===Test===\n",
            "X: 170, Y:  [66.60023]\n",
            "X: 153, Y:  [59.916573]\n"
          ]
        }
      ]
    },
    {
      "cell_type": "code",
      "metadata": {
        "id": "wrCmFK4WX7Ta"
      },
      "source": [
        ""
      ],
      "execution_count": null,
      "outputs": []
    }
  ]
}